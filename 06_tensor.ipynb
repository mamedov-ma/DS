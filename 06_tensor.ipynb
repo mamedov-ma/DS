{
 "cells": [
  {
   "cell_type": "code",
   "execution_count": 1,
   "source": [
    "# September 2021"
   ],
   "outputs": [],
   "metadata": {}
  },
  {
   "cell_type": "markdown",
   "source": [
    "# Нейронные сети"
   ],
   "metadata": {}
  },
  {
   "cell_type": "code",
   "execution_count": 2,
   "source": [
    "import pandas as pd\r\n",
    "import numpy as np\r\n",
    "import matplotlib.pyplot as plt\r\n",
    "import seaborn as sns\r\n",
    "import tensorflow as tf"
   ],
   "outputs": [],
   "metadata": {}
  },
  {
   "cell_type": "markdown",
   "source": [
    "# Введение"
   ],
   "metadata": {}
  },
  {
   "cell_type": "markdown",
   "source": [
    "В этой главе мы переходим к нейронным сетям. Для многих Data Science ассоциируется именно с нейронными сетями и глубоким обучением. Конечно, это недостаточно верная точка зрения. Однако здесь этого обсуждать не будем. Стоит лишь помнить, что нейронные сети и глубокое обучение (далее просто будем говорить - глубокое обучение) вырастают из тех методов и концепций, которые были заложены выше, в предыдущих главах.\r\n",
    "\r\n",
    "Усвоение концепций глубокого обучения может быть затруднено. Поэтому здесь можно предложить следующий подход: вернуться к логистической регрессии (глава 3) и в сравнении с логистической регрессией посмотреть на один из алгоритмов нейронных сетей. За основу возьмемем алгоритм Adaline, хорошо описанный в книге С. Рашки, В. Мирджалили Python и машинное обучение.\r\n",
    "\r\n",
    "Итак, в логистичекой регрессии у нас были следующие элементы:\r\n",
    "\r\n",
    "1) линейная функция, которая содержала сумму признаков, умноженных на коэффициенты;\r\n",
    "2) функция распределения, через которую мы настраивали коэффициенты линейной функции;\r\n",
    "3) логистическая функция, в которую входила линейная функция с уже настроенными весами и которая позволяла предсказать категорию (1 или 0).\r\n",
    "\r\n",
    "А теперь давайте посмотрим на адаптивный линейный нейрон (Adaline). Этот нейрон содержит следующие элементы:\r\n",
    "\r\n",
    "1) входные значения, то есть просто признаки по каждому наблюдению. Если представить линейную функцию, то входными значениями будут иксы;\r\n",
    "\r\n",
    "2) входные значения умножаются на весовые коэффициенты и передаются в функцию общего входа. Так мы получаем линейную функцию;\r\n",
    "\r\n",
    "3) затем применяется функция активации. В логистической регрессии на этом месте стоит функция распределения. То есть мы передаем нашу линейную функцию в другую функцию, которая позволяет настраивать коэффициенты;\r\n",
    "\r\n",
    "4) далее единичная ступенчатая функция. В логистической регрессии на этом месте стоит логистическая функция, то есть такая функция, которая должна выдать нам результат - предсказанный класс.\r\n",
    "\r\n",
    "Оптимизация осуществляется с помощью градиентного спуска, что позволяет обновлять весовые коэффициенты. \r\n",
    "\r\n",
    "Веса обновляются одновременно после каждой эпохи.\r\n",
    "\r\n",
    "Многослойный персептрон предполагает наличие множества нейронов. Минимальный дизайн: один входной слой, один скрытый слой и один выходной слой. Если в сети более одного скрытого слоя, то мы говорим о глубокой искусственной нейронной сети.\r\n",
    "\r\n",
    "Для применения нейронных сетей строго рекомендуется применение шкалирования.\r\n",
    "\r\n",
    "Этапы применения нейронной сети следующие:\r\n",
    "\r\n",
    "1) сначала задаем обработку данных и слои нейронной сети;\r\n",
    "\r\n",
    "2) затем компилируем, задаем способ оптимизации, метрики;\r\n",
    "\r\n",
    "3) обучаем;\r\n",
    "\r\n",
    "4) делаем предсказания.\r\n",
    "\r\n",
    "Рекомендуемая литература:\r\n",
    "\r\n",
    "1) Себастьян Рашка, Вахид Мирджалили. Машинное обучение. 3-е издание (обязательно именно третье, не второе и не третье)\r\n",
    "2) Орельен Жерон. Прикладное машинное обучение\r\n",
    "\r\n",
    "Рекомендуемые книги по математике см. [здесь](https://medium.com/data-science-with-ruslan-nazarov/книги-по-data-science-и-математике-для-начинающих-6257214d82d7)\r\n",
    "\r\n",
    "Рекомендуемые онлайн-ресурсы и прочее:\r\n",
    "1) официальный учебник по tensorflow [здесь](https://www.tensorflow.org/tutorials)\r\n",
    "\r\n",
    "N.B. Если где-то по тексту есть ссылка на онлайн-ресурс, то она также повторяется здесь.\r\n",
    "\r\n",
    "Дополнительный полезный код, который может быть применен в том числе к задаче предварительной подготовке данных, можно также найти в главе 7."
   ],
   "metadata": {}
  },
  {
   "cell_type": "markdown",
   "source": [
    "# Базовые операции"
   ],
   "metadata": {}
  },
  {
   "cell_type": "code",
   "execution_count": 3,
   "source": [
    "# тензор ранга 0\r\n",
    "\r\n",
    "rank_0_tensor = tf.constant(4)\r\n",
    "print(rank_0_tensor)"
   ],
   "outputs": [
    {
     "output_type": "stream",
     "name": "stdout",
     "text": [
      "tf.Tensor(4, shape=(), dtype=int32)\n"
     ]
    }
   ],
   "metadata": {}
  },
  {
   "cell_type": "code",
   "execution_count": 4,
   "source": [
    "# тензор ранга 1\r\n",
    "\r\n",
    "rank_1_tensor = tf.constant([0, 1, 1, 2, 3, 5, 8, 13, 21, 34])\r\n",
    "print(rank_1_tensor.numpy())"
   ],
   "outputs": [
    {
     "output_type": "stream",
     "name": "stdout",
     "text": [
      "[ 0  1  1  2  3  5  8 13 21 34]\n"
     ]
    }
   ],
   "metadata": {}
  },
  {
   "cell_type": "code",
   "execution_count": 5,
   "source": [
    "# сложение тензоров\r\n",
    "\r\n",
    "a = tf.constant([[1, 2], [3,4]])\r\n",
    "b = tf.constant([[1, 1], [1, 1]])\r\n",
    "\r\n",
    "print(tf.add(a, b), \"\\n\")"
   ],
   "outputs": [
    {
     "output_type": "stream",
     "name": "stdout",
     "text": [
      "tf.Tensor(\n",
      "[[2 3]\n",
      " [4 5]], shape=(2, 2), dtype=int32) \n",
      "\n"
     ]
    }
   ],
   "metadata": {}
  },
  {
   "cell_type": "code",
   "execution_count": 6,
   "source": [
    "c = tf.constant([[4.0, 5.0], [10.0, 1.0]])\r\n",
    "print(tf.reduce_max(c))"
   ],
   "outputs": [
    {
     "output_type": "stream",
     "name": "stdout",
     "text": [
      "tf.Tensor(10.0, shape=(), dtype=float32)\n"
     ]
    }
   ],
   "metadata": {}
  },
  {
   "cell_type": "code",
   "execution_count": 7,
   "source": [
    "rank_4_tensor = tf.zeros([3, 2, 4,5])\r\n",
    "rank_4_tensor"
   ],
   "outputs": [
    {
     "output_type": "execute_result",
     "data": {
      "text/plain": [
       "<tf.Tensor: shape=(3, 2, 4, 5), dtype=float32, numpy=\n",
       "array([[[[0., 0., 0., 0., 0.],\n",
       "         [0., 0., 0., 0., 0.],\n",
       "         [0., 0., 0., 0., 0.],\n",
       "         [0., 0., 0., 0., 0.]],\n",
       "\n",
       "        [[0., 0., 0., 0., 0.],\n",
       "         [0., 0., 0., 0., 0.],\n",
       "         [0., 0., 0., 0., 0.],\n",
       "         [0., 0., 0., 0., 0.]]],\n",
       "\n",
       "\n",
       "       [[[0., 0., 0., 0., 0.],\n",
       "         [0., 0., 0., 0., 0.],\n",
       "         [0., 0., 0., 0., 0.],\n",
       "         [0., 0., 0., 0., 0.]],\n",
       "\n",
       "        [[0., 0., 0., 0., 0.],\n",
       "         [0., 0., 0., 0., 0.],\n",
       "         [0., 0., 0., 0., 0.],\n",
       "         [0., 0., 0., 0., 0.]]],\n",
       "\n",
       "\n",
       "       [[[0., 0., 0., 0., 0.],\n",
       "         [0., 0., 0., 0., 0.],\n",
       "         [0., 0., 0., 0., 0.],\n",
       "         [0., 0., 0., 0., 0.]],\n",
       "\n",
       "        [[0., 0., 0., 0., 0.],\n",
       "         [0., 0., 0., 0., 0.],\n",
       "         [0., 0., 0., 0., 0.],\n",
       "         [0., 0., 0., 0., 0.]]]], dtype=float32)>"
      ]
     },
     "metadata": {},
     "execution_count": 7
    }
   ],
   "metadata": {}
  },
  {
   "cell_type": "markdown",
   "source": [
    "Здесь [3, 2, 4, 5] каждый элемент - это размер оси, всего осей 4, поэтому ранг тензора равен 4. В этом тензоре мы имеем по вертикали 3 блока. Каждый блок в 2 строки и 4 стобца. Глубина кажого блока равна 5. "
   ],
   "metadata": {}
  },
  {
   "cell_type": "code",
   "execution_count": 8,
   "source": [
    "# описание тензора ранга 4\r\n",
    "\r\n",
    "print(\"Type of every element:\", rank_4_tensor.dtype)\r\n",
    "print(\"Number of axes:\", rank_4_tensor.ndim)\r\n",
    "print(\"Shape of tensor:\", rank_4_tensor.shape)\r\n",
    "print(\"Elements along axis 0 of tensor:\", rank_4_tensor.shape[0])\r\n",
    "print(\"Elements along the last axis of tensor:\", rank_4_tensor.shape[-1])\r\n",
    "print(\"Total number of elements (3*2*4*5): \", tf.size(rank_4_tensor).numpy())"
   ],
   "outputs": [
    {
     "output_type": "stream",
     "name": "stdout",
     "text": [
      "Type of every element: <dtype: 'float32'>\n",
      "Number of axes: 4\n",
      "Shape of tensor: (3, 2, 4, 5)\n",
      "Elements along axis 0 of tensor: 3\n",
      "Elements along the last axis of tensor: 5\n",
      "Total number of elements (3*2*4*5):  120\n"
     ]
    }
   ],
   "metadata": {}
  },
  {
   "cell_type": "code",
   "execution_count": 9,
   "source": [
    "x1 = tf.constant([[1], [2], [3]])\r\n",
    "print(\"Type of every element:\", x1.dtype)\r\n",
    "print(\"Number of axes:\", x1.ndim)\r\n",
    "print(\"Shape of tensor:\", x1.shape)\r\n",
    "print(\"Elements along axis 0 of tensor:\", x1.shape[0])\r\n",
    "print(\"Elements along the last axis of tensor:\", x1.shape[-1])\r\n",
    "print(\"Total number of elements: \", tf.size(x1).numpy())"
   ],
   "outputs": [
    {
     "output_type": "stream",
     "name": "stdout",
     "text": [
      "Type of every element: <dtype: 'int32'>\n",
      "Number of axes: 2\n",
      "Shape of tensor: (3, 1)\n",
      "Elements along axis 0 of tensor: 3\n",
      "Elements along the last axis of tensor: 1\n",
      "Total number of elements:  3\n"
     ]
    }
   ],
   "metadata": {}
  },
  {
   "cell_type": "markdown",
   "source": [
    "# Примеры из учебника"
   ],
   "metadata": {}
  },
  {
   "cell_type": "markdown",
   "source": [
    "Так как построение нейронных сетей может представлять сложность для понимания, мы сначала рассмотрим примеры из официального учебника, а затем уже перейдем к работе с нашими данными. Примеров будет три: на изображение, на текст и на регрессию. Примеры для этого раздела взяты из официального учебника [отсюда](https://www.tensorflow.org/tutorials/keras/classification)."
   ],
   "metadata": {}
  },
  {
   "cell_type": "code",
   "execution_count": 10,
   "source": [
    "from tensorflow import keras\r\n",
    "from tensorflow.keras import layers"
   ],
   "outputs": [],
   "metadata": {}
  },
  {
   "cell_type": "markdown",
   "source": [
    "## Нейронная сеть для изображений"
   ],
   "metadata": {}
  },
  {
   "cell_type": "markdown",
   "source": [
    "### Пример на данных Fashion"
   ],
   "metadata": {}
  },
  {
   "cell_type": "code",
   "execution_count": 11,
   "source": [
    "# загружаем данные\r\n",
    "\r\n",
    "fashion_mnist = tf.keras.datasets.fashion_mnist\r\n",
    "\r\n",
    "# делим на тренировочный и тестовый наборы\r\n",
    "\r\n",
    "(train_images, train_labels), (test_images, test_labels) = fashion_mnist.load_data()"
   ],
   "outputs": [],
   "metadata": {}
  },
  {
   "cell_type": "markdown",
   "source": [
    "Наши наборы данных состоят из изображений предметом одежды размером 28 на 28 пикселей каждое. Каждый пиксель представлен числом в диапазоне от 0 до 255.\r\n",
    "\r\n",
    "В исходных данных даны только классы предметов одежды, без текстового описания. Поэтому ниже сохраним такое описание."
   ],
   "metadata": {}
  },
  {
   "cell_type": "code",
   "execution_count": 12,
   "source": [
    "class_names = ['T-shirt/top', 'Trouser', 'Pullover', 'Dress', 'Coat',\r\n",
    "               'Sandal', 'Shirt', 'Sneaker', 'Bag', 'Ankle boot']"
   ],
   "outputs": [],
   "metadata": {}
  },
  {
   "cell_type": "code",
   "execution_count": 13,
   "source": [
    "# размерность тренировочного набора\r\n",
    "\r\n",
    "train_images.shape"
   ],
   "outputs": [
    {
     "output_type": "execute_result",
     "data": {
      "text/plain": [
       "(60000, 28, 28)"
      ]
     },
     "metadata": {},
     "execution_count": 13
    }
   ],
   "metadata": {}
  },
  {
   "cell_type": "code",
   "execution_count": 14,
   "source": [
    "# количество меток тренировочного набора\r\n",
    "\r\n",
    "len(train_labels)"
   ],
   "outputs": [
    {
     "output_type": "execute_result",
     "data": {
      "text/plain": [
       "60000"
      ]
     },
     "metadata": {},
     "execution_count": 14
    }
   ],
   "metadata": {}
  },
  {
   "cell_type": "markdown",
   "source": [
    "### Предварительная подготовка данных"
   ],
   "metadata": {}
  },
  {
   "cell_type": "code",
   "execution_count": 15,
   "source": [
    "plt.figure()\r\n",
    "plt.imshow(train_images[0])\r\n",
    "plt.colorbar()\r\n",
    "plt.grid(False)\r\n",
    "plt.show()"
   ],
   "outputs": [
    {
     "output_type": "display_data",
     "data": {
      "image/png": "[encoded data removed]",
      "text/plain": [
       "<Figure size 432x288 with 2 Axes>"
      ]
     },
     "metadata": {
      "needs_background": "light"
     }
    }
   ],
   "metadata": {}
  },
  {
   "cell_type": "markdown",
   "source": [
    "Как указывалось выше, каждый пикспель попадает в диапазон от 0 до 255, что мы и видим на графике выше. Теперь преобразуем значения так, чтобы они лежали в интервале от 0 до 1. Для этого необходимо поделить значение каждого пикселя на 255."
   ],
   "metadata": {}
  },
  {
   "cell_type": "code",
   "execution_count": 16,
   "source": [
    "train_images = train_images / 255.0\r\n",
    "\r\n",
    "test_images = test_images / 255.0"
   ],
   "outputs": [],
   "metadata": {}
  },
  {
   "cell_type": "code",
   "execution_count": 17,
   "source": [
    "# проверка результатов масштабирования\r\n",
    "\r\n",
    "plt.figure(figsize=(10,10))\r\n",
    "for i in range(25):\r\n",
    "    plt.subplot(5, 5, i+1)\r\n",
    "    plt.xticks([])\r\n",
    "    plt.yticks([])\r\n",
    "    plt.grid(False)\r\n",
    "    plt.imshow(train_images[i], cmap=plt.cm.binary)\r\n",
    "    plt.xlabel(class_names[train_labels[i]])\r\n",
    "plt.show()"
   ],
   "outputs": [
    {
     "output_type": "display_data",
     "data": {
      "image/png": "[encoded data removed]",
      "text/plain": [
       "<Figure size 720x720 with 25 Axes>"
      ]
     },
     "metadata": {}
    }
   ],
   "metadata": {}
  },
  {
   "cell_type": "markdown",
   "source": [
    "### Настройка модели"
   ],
   "metadata": {}
  },
  {
   "cell_type": "code",
   "execution_count": 18,
   "source": [
    "# задаем слои\r\n",
    "\r\n",
    "model = tf.keras.Sequential([\r\n",
    "\r\n",
    "    tf.keras.layers.Flatten(input_shape=(28, 28)), \r\n",
    "    tf.keras.layers.Dense(128, activation='relu'),\r\n",
    "    tf.keras.layers.Dense(10)\r\n",
    "    \r\n",
    "])"
   ],
   "outputs": [],
   "metadata": {}
  },
  {
   "cell_type": "markdown",
   "source": [
    "Нейронные сети состоят из слоев. В данном случае мы имеем три слоя. \r\n",
    "\r\n",
    "Первый слой преобразует двумерные данные (28 на 28) в одномерные.\r\n",
    "\r\n",
    "Второй слой - это первый полносвязный слой, который содержит 128 узлов. \r\n",
    "\r\n",
    "Третий слой - это второй полносвязный слой, который содержит только 10 узлов. "
   ],
   "metadata": {}
  },
  {
   "cell_type": "code",
   "execution_count": 19,
   "source": [
    "# компилируем модель\r\n",
    "\r\n",
    "model.compile(optimizer='adam',\r\n",
    "              loss=tf.keras.losses.SparseCategoricalCrossentropy(from_logits=True),\r\n",
    "              metrics=['accuracy'])"
   ],
   "outputs": [],
   "metadata": {}
  },
  {
   "cell_type": "markdown",
   "source": [
    "На этапе компиляции мы указываем:\r\n",
    "\r\n",
    "1) как оптимизировать модель;\r\n",
    "\r\n",
    "2) какую функцию потерь использовать;\r\n",
    "\r\n",
    "3) какую метрику использовать для оценки модели."
   ],
   "metadata": {}
  },
  {
   "cell_type": "code",
   "execution_count": 20,
   "source": [
    "# тренируем модель\r\n",
    "# ограничимся только двумя эпохами\r\n",
    "\r\n",
    "model.fit(train_images, train_labels, epochs=2)"
   ],
   "outputs": [
    {
     "output_type": "stream",
     "name": "stdout",
     "text": [
      "Epoch 1/2\n",
      "1875/1875 [==============================] - 3s 1ms/step - loss: 0.5015 - accuracy: 0.8220\n",
      "Epoch 2/2\n",
      "1875/1875 [==============================] - 3s 1ms/step - loss: 0.3743 - accuracy: 0.8646\n"
     ]
    },
    {
     "output_type": "execute_result",
     "data": {
      "text/plain": [
       "<keras.callbacks.History at 0x20785673dc0>"
      ]
     },
     "metadata": {},
     "execution_count": 20
    }
   ],
   "metadata": {}
  },
  {
   "cell_type": "code",
   "execution_count": 21,
   "source": [
    "# оцениваем модель\r\n",
    "\r\n",
    "test_loss, test_acc = model.evaluate(test_images,  test_labels, verbose=2)\r\n",
    "\r\n",
    "print('\\nTest accuracy:', test_acc)"
   ],
   "outputs": [
    {
     "output_type": "stream",
     "name": "stdout",
     "text": [
      "313/313 - 0s - loss: 0.3953 - accuracy: 0.8587\n",
      "\n",
      "Test accuracy: 0.8586999773979187\n"
     ]
    }
   ],
   "metadata": {}
  },
  {
   "cell_type": "code",
   "execution_count": 22,
   "source": [
    "# добавляем слой для получения\r\n",
    "# значений вероятности класса\r\n",
    "\r\n",
    "probability_model = tf.keras.Sequential([model, \r\n",
    "                                         tf.keras.layers.Softmax()])\r\n",
    "\r\n",
    "predictions = probability_model.predict(test_images)\r\n",
    "\r\n",
    "np.argmax(predictions[0])"
   ],
   "outputs": [
    {
     "output_type": "execute_result",
     "data": {
      "text/plain": [
       "9"
      ]
     },
     "metadata": {},
     "execution_count": 22
    }
   ],
   "metadata": {}
  },
  {
   "cell_type": "markdown",
   "source": [
    "Для каждого класса модель выдает его вероятность. Класс с большей вероятностья и есть наш прогнозируемый класс."
   ],
   "metadata": {}
  },
  {
   "cell_type": "markdown",
   "source": [
    "### Использование модели для предсказаний"
   ],
   "metadata": {}
  },
  {
   "cell_type": "code",
   "execution_count": 23,
   "source": [
    "def plot_image(i, predictions_array, true_label, img):\r\n",
    "  true_label, img = true_label[i], img[i]\r\n",
    "  plt.grid(False)\r\n",
    "  plt.xticks([])\r\n",
    "  plt.yticks([])\r\n",
    "\r\n",
    "  plt.imshow(img, cmap=plt.cm.binary)\r\n",
    "\r\n",
    "  predicted_label = np.argmax(predictions_array)\r\n",
    "  if predicted_label == true_label:\r\n",
    "    color = 'blue'\r\n",
    "  else:\r\n",
    "    color = 'red'\r\n",
    "\r\n",
    "  plt.xlabel(\"{} {:2.0f}% ({})\".format(class_names[predicted_label],\r\n",
    "                                100*np.max(predictions_array),\r\n",
    "                                class_names[true_label]),\r\n",
    "                                color=color)\r\n",
    "\r\n",
    "def plot_value_array(i, predictions_array, true_label):\r\n",
    "  true_label = true_label[i]\r\n",
    "  plt.grid(False)\r\n",
    "  plt.xticks(range(10))\r\n",
    "  plt.yticks([])\r\n",
    "  thisplot = plt.bar(range(10), predictions_array, color=\"#777777\")\r\n",
    "  plt.ylim([0, 1])\r\n",
    "  predicted_label = np.argmax(predictions_array)\r\n",
    "\r\n",
    "  thisplot[predicted_label].set_color('red')\r\n",
    "  thisplot[true_label].set_color('blue')"
   ],
   "outputs": [],
   "metadata": {}
  },
  {
   "cell_type": "code",
   "execution_count": 24,
   "source": [
    "i = 0\r\n",
    "plt.figure(figsize=(6,3))\r\n",
    "plt.subplot(1,2,1)\r\n",
    "plot_image(i, predictions[i], test_labels, test_images)\r\n",
    "plt.subplot(1,2,2)\r\n",
    "plot_value_array(i, predictions[i],  test_labels)\r\n",
    "plt.show()"
   ],
   "outputs": [
    {
     "output_type": "display_data",
     "data": {
      "image/png": "[encoded data removed]",
      "text/plain": [
       "<Figure size 432x216 with 2 Axes>"
      ]
     },
     "metadata": {
      "needs_background": "light"
     }
    }
   ],
   "metadata": {}
  },
  {
   "cell_type": "code",
   "execution_count": 25,
   "source": [
    "i = 12\r\n",
    "plt.figure(figsize=(6,3))\r\n",
    "plt.subplot(1,2,1)\r\n",
    "plot_image(i, predictions[i], test_labels, test_images)\r\n",
    "plt.subplot(1,2,2)\r\n",
    "plot_value_array(i, predictions[i],  test_labels)\r\n",
    "plt.show()"
   ],
   "outputs": [
    {
     "output_type": "display_data",
     "data": {
      "image/png": "[encoded data removed]",
      "text/plain": [
       "<Figure size 432x216 with 2 Axes>"
      ]
     },
     "metadata": {
      "needs_background": "light"
     }
    }
   ],
   "metadata": {}
  },
  {
   "cell_type": "code",
   "execution_count": 26,
   "source": [
    "num_rows = 5\r\n",
    "num_cols = 3\r\n",
    "num_images = num_rows*num_cols\r\n",
    "plt.figure(figsize=(2*2*num_cols, 2*num_rows))\r\n",
    "for i in range(num_images):\r\n",
    "  plt.subplot(num_rows, 2*num_cols, 2*i+1)\r\n",
    "  plot_image(i, predictions[i], test_labels, test_images)\r\n",
    "  plt.subplot(num_rows, 2*num_cols, 2*i+2)\r\n",
    "  plot_value_array(i, predictions[i], test_labels)\r\n",
    "plt.tight_layout()\r\n",
    "plt.show()"
   ],
   "outputs": [
    {
     "output_type": "display_data",
     "data": {
      "image/png": "[encoded data removed]",
      "text/plain": [
       "<Figure size 864x720 with 30 Axes>"
      ]
     },
     "metadata": {
      "needs_background": "light"
     }
    }
   ],
   "metadata": {}
  },
  {
   "cell_type": "markdown",
   "source": [
    "## Пример с обработкой текста"
   ],
   "metadata": {}
  },
  {
   "cell_type": "code",
   "execution_count": 27,
   "source": [
    "import matplotlib.pyplot as plt\r\n",
    "import os\r\n",
    "import re\r\n",
    "import shutil\r\n",
    "import string\r\n",
    "import tensorflow as tf\r\n",
    "\r\n",
    "from tensorflow.keras import layers\r\n",
    "from tensorflow.keras import losses\r\n",
    "from tensorflow.keras import preprocessing\r\n",
    "from tensorflow.keras.layers.experimental.preprocessing import TextVectorization"
   ],
   "outputs": [],
   "metadata": {}
  },
  {
   "cell_type": "code",
   "execution_count": 28,
   "source": [
    "url = \"https://ai.stanford.edu/~amaas/data/sentiment/aclImdb_v1.tar.gz\"\r\n",
    "\r\n",
    "datasets = tf.keras.utils.get_file(\"aclImbd_v1\", url, untar=True, cache_dir='.', cache_subdir='')\r\n"
   ],
   "outputs": [
    {
     "output_type": "stream",
     "name": "stdout",
     "text": [
      "Downloading data from https://ai.stanford.edu/~amaas/data/sentiment/aclImdb_v1.tar.gz\n",
      "84131840/84125825 [==============================] - 22s 0us/step\n",
      "84140032/84125825 [==============================] - 22s 0us/step\n"
     ]
    }
   ],
   "metadata": {}
  },
  {
   "cell_type": "code",
   "execution_count": 29,
   "source": [
    "dataset_dir = 'D:/Data Science/Проекты/Metod_Goodreads/aclImdb'\r\n",
    "os.listdir(os.path.normpath(dataset_dir))"
   ],
   "outputs": [
    {
     "output_type": "execute_result",
     "data": {
      "text/plain": [
       "['imdb.vocab', 'imdbEr.txt', 'README', 'test', 'train']"
      ]
     },
     "metadata": {},
     "execution_count": 29
    }
   ],
   "metadata": {}
  },
  {
   "cell_type": "code",
   "execution_count": 30,
   "source": [
    "# содержание загруженных данных\r\n",
    "\r\n",
    "train_dir = os.path.join(dataset_dir, 'train')\r\n",
    "os.listdir(train_dir)"
   ],
   "outputs": [
    {
     "output_type": "execute_result",
     "data": {
      "text/plain": [
       "['labeledBow.feat',\n",
       " 'neg',\n",
       " 'pos',\n",
       " 'unsupBow.feat',\n",
       " 'urls_neg.txt',\n",
       " 'urls_pos.txt',\n",
       " 'urls_unsup.txt']"
      ]
     },
     "metadata": {},
     "execution_count": 30
    }
   ],
   "metadata": {}
  },
  {
   "cell_type": "code",
   "execution_count": 31,
   "source": [
    "# пример отзыва\r\n",
    "\r\n",
    "sample_file = os.path.join(train_dir, 'pos/1181_9.txt')\r\n",
    "with open(sample_file) as f:\r\n",
    "    print(f.read())"
   ],
   "outputs": [
    {
     "output_type": "stream",
     "name": "stdout",
     "text": [
      "Rachel Griffiths writes and directs this award winning short film. A heartwarming story about coping with grief and cherishing the memory of those we've loved and lost. Although, only 15 minutes long, Griffiths manages to capture so much emotion and truth onto film in the short space of time. Bud Tingwell gives a touching performance as Will, a widower struggling to cope with his wife's death. Will is confronted by the harsh reality of loneliness and helplessness as he proceeds to take care of Ruth's pet cow, Tulip. The film displays the grief and responsibility one feels for those they have loved and lost. Good cinematography, great direction, and superbly acted. It will bring tears to all those who have lost a loved one, and survived.\n"
     ]
    }
   ],
   "metadata": {}
  },
  {
   "cell_type": "code",
   "execution_count": 34,
   "source": [
    "# удалим папки\r\n",
    "# которые нам не понадобятся больше\r\n",
    "\r\n",
    "shutil.rmtree('D:/Data Science/Проекты/Metod_Goodreads/git_goodreads/aclImdb/train/unsup')"
   ],
   "outputs": [
    {
     "output_type": "error",
     "ename": "FileNotFoundError",
     "evalue": "[WinError 3] Системе не удается найти указанный путь: 'D:/Data Science/Проекты/Metod_Goodreads/git_goodreads/aclImdb/train/unsup'",
     "traceback": [
      "\u001b[1;31m---------------------------------------------------------------------------\u001b[0m",
      "\u001b[1;31mFileNotFoundError\u001b[0m                         Traceback (most recent call last)",
      "\u001b[1;32m~\\AppData\\Local\\Temp/ipykernel_20604/2868026443.py\u001b[0m in \u001b[0;36m<module>\u001b[1;34m\u001b[0m\n\u001b[0;32m      2\u001b[0m \u001b[1;31m# которые нам не понадобятся больше\u001b[0m\u001b[1;33m\u001b[0m\u001b[1;33m\u001b[0m\u001b[0m\n\u001b[0;32m      3\u001b[0m \u001b[1;33m\u001b[0m\u001b[0m\n\u001b[1;32m----> 4\u001b[1;33m \u001b[0mshutil\u001b[0m\u001b[1;33m.\u001b[0m\u001b[0mrmtree\u001b[0m\u001b[1;33m(\u001b[0m\u001b[1;34m'D:/Data Science/Проекты/Metod_Goodreads/git_goodreads/aclImdb/train/unsup'\u001b[0m\u001b[1;33m)\u001b[0m\u001b[1;33m\u001b[0m\u001b[1;33m\u001b[0m\u001b[0m\n\u001b[0m",
      "\u001b[1;32mC:\\Program Files\\WindowsApps\\PythonSoftwareFoundation.Python.3.9_3.9.2032.0_x64__qbz5n2kfra8p0\\lib\\shutil.py\u001b[0m in \u001b[0;36mrmtree\u001b[1;34m(path, ignore_errors, onerror)\u001b[0m\n\u001b[0;32m    746\u001b[0m             \u001b[1;31m# can't continue even if onerror hook returns\u001b[0m\u001b[1;33m\u001b[0m\u001b[1;33m\u001b[0m\u001b[0m\n\u001b[0;32m    747\u001b[0m             \u001b[1;32mreturn\u001b[0m\u001b[1;33m\u001b[0m\u001b[1;33m\u001b[0m\u001b[0m\n\u001b[1;32m--> 748\u001b[1;33m         \u001b[1;32mreturn\u001b[0m \u001b[0m_rmtree_unsafe\u001b[0m\u001b[1;33m(\u001b[0m\u001b[0mpath\u001b[0m\u001b[1;33m,\u001b[0m \u001b[0monerror\u001b[0m\u001b[1;33m)\u001b[0m\u001b[1;33m\u001b[0m\u001b[1;33m\u001b[0m\u001b[0m\n\u001b[0m\u001b[0;32m    749\u001b[0m \u001b[1;33m\u001b[0m\u001b[0m\n\u001b[0;32m    750\u001b[0m \u001b[1;31m# Allow introspection of whether or not the hardening against symlink\u001b[0m\u001b[1;33m\u001b[0m\u001b[1;33m\u001b[0m\u001b[0m\n",
      "\u001b[1;32mC:\\Program Files\\WindowsApps\\PythonSoftwareFoundation.Python.3.9_3.9.2032.0_x64__qbz5n2kfra8p0\\lib\\shutil.py\u001b[0m in \u001b[0;36m_rmtree_unsafe\u001b[1;34m(path, onerror)\u001b[0m\n\u001b[0;32m    605\u001b[0m             \u001b[0mentries\u001b[0m \u001b[1;33m=\u001b[0m \u001b[0mlist\u001b[0m\u001b[1;33m(\u001b[0m\u001b[0mscandir_it\u001b[0m\u001b[1;33m)\u001b[0m\u001b[1;33m\u001b[0m\u001b[1;33m\u001b[0m\u001b[0m\n\u001b[0;32m    606\u001b[0m     \u001b[1;32mexcept\u001b[0m \u001b[0mOSError\u001b[0m\u001b[1;33m:\u001b[0m\u001b[1;33m\u001b[0m\u001b[1;33m\u001b[0m\u001b[0m\n\u001b[1;32m--> 607\u001b[1;33m         \u001b[0monerror\u001b[0m\u001b[1;33m(\u001b[0m\u001b[0mos\u001b[0m\u001b[1;33m.\u001b[0m\u001b[0mscandir\u001b[0m\u001b[1;33m,\u001b[0m \u001b[0mpath\u001b[0m\u001b[1;33m,\u001b[0m \u001b[0msys\u001b[0m\u001b[1;33m.\u001b[0m\u001b[0mexc_info\u001b[0m\u001b[1;33m(\u001b[0m\u001b[1;33m)\u001b[0m\u001b[1;33m)\u001b[0m\u001b[1;33m\u001b[0m\u001b[1;33m\u001b[0m\u001b[0m\n\u001b[0m\u001b[0;32m    608\u001b[0m         \u001b[0mentries\u001b[0m \u001b[1;33m=\u001b[0m \u001b[1;33m[\u001b[0m\u001b[1;33m]\u001b[0m\u001b[1;33m\u001b[0m\u001b[1;33m\u001b[0m\u001b[0m\n\u001b[0;32m    609\u001b[0m     \u001b[1;32mfor\u001b[0m \u001b[0mentry\u001b[0m \u001b[1;32min\u001b[0m \u001b[0mentries\u001b[0m\u001b[1;33m:\u001b[0m\u001b[1;33m\u001b[0m\u001b[1;33m\u001b[0m\u001b[0m\n",
      "\u001b[1;32mC:\\Program Files\\WindowsApps\\PythonSoftwareFoundation.Python.3.9_3.9.2032.0_x64__qbz5n2kfra8p0\\lib\\shutil.py\u001b[0m in \u001b[0;36m_rmtree_unsafe\u001b[1;34m(path, onerror)\u001b[0m\n\u001b[0;32m    602\u001b[0m \u001b[1;32mdef\u001b[0m \u001b[0m_rmtree_unsafe\u001b[0m\u001b[1;33m(\u001b[0m\u001b[0mpath\u001b[0m\u001b[1;33m,\u001b[0m \u001b[0monerror\u001b[0m\u001b[1;33m)\u001b[0m\u001b[1;33m:\u001b[0m\u001b[1;33m\u001b[0m\u001b[1;33m\u001b[0m\u001b[0m\n\u001b[0;32m    603\u001b[0m     \u001b[1;32mtry\u001b[0m\u001b[1;33m:\u001b[0m\u001b[1;33m\u001b[0m\u001b[1;33m\u001b[0m\u001b[0m\n\u001b[1;32m--> 604\u001b[1;33m         \u001b[1;32mwith\u001b[0m \u001b[0mos\u001b[0m\u001b[1;33m.\u001b[0m\u001b[0mscandir\u001b[0m\u001b[1;33m(\u001b[0m\u001b[0mpath\u001b[0m\u001b[1;33m)\u001b[0m \u001b[1;32mas\u001b[0m \u001b[0mscandir_it\u001b[0m\u001b[1;33m:\u001b[0m\u001b[1;33m\u001b[0m\u001b[1;33m\u001b[0m\u001b[0m\n\u001b[0m\u001b[0;32m    605\u001b[0m             \u001b[0mentries\u001b[0m \u001b[1;33m=\u001b[0m \u001b[0mlist\u001b[0m\u001b[1;33m(\u001b[0m\u001b[0mscandir_it\u001b[0m\u001b[1;33m)\u001b[0m\u001b[1;33m\u001b[0m\u001b[1;33m\u001b[0m\u001b[0m\n\u001b[0;32m    606\u001b[0m     \u001b[1;32mexcept\u001b[0m \u001b[0mOSError\u001b[0m\u001b[1;33m:\u001b[0m\u001b[1;33m\u001b[0m\u001b[1;33m\u001b[0m\u001b[0m\n",
      "\u001b[1;31mFileNotFoundError\u001b[0m: [WinError 3] Системе не удается найти указанный путь: 'D:/Data Science/Проекты/Metod_Goodreads/git_goodreads/aclImdb/train/unsup'"
     ]
    }
   ],
   "metadata": {}
  },
  {
   "cell_type": "code",
   "execution_count": 36,
   "source": [
    "# создаем набор для проверки\r\n",
    "\r\n",
    "batch_size = 32\r\n",
    "seed = 42\r\n",
    "\r\n",
    "raw_train_ds = tf.keras.preprocessing.text_dataset_from_directory(\r\n",
    "    'aclImdb/train', \r\n",
    "    batch_size=batch_size, \r\n",
    "    validation_split=0.2, \r\n",
    "    subset='training', \r\n",
    "    seed=seed)"
   ],
   "outputs": [
    {
     "output_type": "stream",
     "name": "stdout",
     "text": [
      "Found 25000 files belonging to 2 classes.\n",
      "Using 20000 files for training.\n"
     ]
    }
   ],
   "metadata": {}
  },
  {
   "cell_type": "markdown",
   "source": [
    "Изначально данные разделены на набор для тренировки и набор для тестирования. Теперь мы дополнительно получим набор для проверки. То есть наши данные будут разделены на три набора."
   ],
   "metadata": {}
  },
  {
   "cell_type": "code",
   "execution_count": 37,
   "source": [
    "# получим примеры отзывов\r\n",
    "# вместе с категорией оценки\r\n",
    "\r\n",
    "for text_batch, label_batch in raw_train_ds.take(1):\r\n",
    "  for i in range(3):\r\n",
    "    print(\"Review\", text_batch.numpy()[i])\r\n",
    "    print(\"Label\", label_batch.numpy()[i])"
   ],
   "outputs": [
    {
     "output_type": "stream",
     "name": "stdout",
     "text": [
      "Review b'\"Pandemonium\" is a horror movie spoof that comes off more stupid than funny. Believe me when I tell you, I love comedies. Especially comedy spoofs. \"Airplane\", \"The Naked Gun\" trilogy, \"Blazing Saddles\", \"High Anxiety\", and \"Spaceballs\" are some of my favorite comedies that spoof a particular genre. \"Pandemonium\" is not up there with those films. Most of the scenes in this movie had me sitting there in stunned silence because the movie wasn\\'t all that funny. There are a few laughs in the film, but when you watch a comedy, you expect to laugh a lot more than a few times and that\\'s all this film has going for it. Geez, \"Scream\" had more laughs than this film and that was more of a horror film. How bizarre is that?<br /><br />*1/2 (out of four)'\n",
      "Label 0\n",
      "Review b\"David Mamet is a very interesting and a very un-equal director. His first movie 'House of Games' was the one I liked best, and it set a series of films with characters whose perspective of life changes as they get into complicated situations, and so does the perspective of the viewer.<br /><br />So is 'Homicide' which from the title tries to set the mind of the viewer to the usual crime drama. The principal characters are two cops, one Jewish and one Irish who deal with a racially charged area. The murder of an old Jewish shop owner who proves to be an ancient veteran of the Israeli Independence war triggers the Jewish identity in the mind and heart of the Jewish detective.<br /><br />This is were the flaws of the film are the more obvious. The process of awakening is theatrical and hard to believe, the group of Jewish militants is operatic, and the way the detective eventually walks to the final violent confrontation is pathetic. The end of the film itself is Mamet-like smart, but disappoints from a human emotional perspective.<br /><br />Joe Mantegna and William Macy give strong performances, but the flaws of the story are too evident to be easily compensated.\"\n",
      "Label 0\n",
      "Review b'Great documentary about the lives of NY firefighters during the worst terrorist attack of all time.. That reason alone is why this should be a must see collectors item.. What shocked me was not only the attacks, but the\"High Fat Diet\" and physical appearance of some of these firefighters. I think a lot of Doctors would agree with me that,in the physical shape they were in, some of these firefighters would NOT of made it to the 79th floor carrying over 60 lbs of gear. Having said that i now have a greater respect for firefighters and i realize becoming a firefighter is a life altering job. The French have a history of making great documentary\\'s and that is what this is, a Great Documentary.....'\n",
      "Label 1\n"
     ]
    }
   ],
   "metadata": {}
  },
  {
   "cell_type": "code",
   "execution_count": 38,
   "source": [
    "# значение категорий\r\n",
    "\r\n",
    "print(\"Label 0 corresponds to\", raw_train_ds.class_names[0])\r\n",
    "print(\"Label 1 corresponds to\", raw_train_ds.class_names[1])"
   ],
   "outputs": [
    {
     "output_type": "stream",
     "name": "stdout",
     "text": [
      "Label 0 corresponds to neg\n",
      "Label 1 corresponds to pos\n"
     ]
    }
   ],
   "metadata": {}
  },
  {
   "cell_type": "code",
   "execution_count": 39,
   "source": [
    "# данные для проверки\r\n",
    "\r\n",
    "raw_val_ds = tf.keras.preprocessing.text_dataset_from_directory(\r\n",
    "    'aclImdb/train', \r\n",
    "    batch_size=batch_size, \r\n",
    "    validation_split=0.2, \r\n",
    "    subset='validation', \r\n",
    "    seed=seed)"
   ],
   "outputs": [
    {
     "output_type": "stream",
     "name": "stdout",
     "text": [
      "Found 25000 files belonging to 2 classes.\n",
      "Using 5000 files for validation.\n"
     ]
    }
   ],
   "metadata": {}
  },
  {
   "cell_type": "code",
   "execution_count": 40,
   "source": [
    "# данные для тестирования\r\n",
    "\r\n",
    "raw_test_ds = tf.keras.preprocessing.text_dataset_from_directory(\r\n",
    "    'aclImdb/test', \r\n",
    "    batch_size=batch_size)"
   ],
   "outputs": [
    {
     "output_type": "stream",
     "name": "stdout",
     "text": [
      "Found 25000 files belonging to 2 classes.\n"
     ]
    }
   ],
   "metadata": {}
  },
  {
   "cell_type": "markdown",
   "source": [
    "### Подготовка данных"
   ],
   "metadata": {}
  },
  {
   "cell_type": "code",
   "execution_count": 41,
   "source": [
    "# переводим текст в нижний регистр\r\n",
    "# удаляем лишние символы\r\n",
    "\r\n",
    "def custom_standardization(input_data):\r\n",
    "  lowercase = tf.strings.lower(input_data)\r\n",
    "  stripped_html = tf.strings.regex_replace(lowercase, '<br />', ' ')\r\n",
    "  return tf.strings.regex_replace(stripped_html,\r\n",
    "                                  '[%s]' % re.escape(string.punctuation),\r\n",
    "                                  '')"
   ],
   "outputs": [],
   "metadata": {}
  },
  {
   "cell_type": "code",
   "execution_count": 42,
   "source": [
    "max_features = 10000\r\n",
    "sequence_length = 250\r\n",
    "\r\n",
    "# слой для предварительной обработки текста\r\n",
    "\r\n",
    "vectorize_layer = TextVectorization(\r\n",
    "    standardize=custom_standardization,\r\n",
    "    max_tokens=max_features,\r\n",
    "    output_mode='int',\r\n",
    "    output_sequence_length=sequence_length\r\n",
    ")"
   ],
   "outputs": [],
   "metadata": {}
  },
  {
   "cell_type": "code",
   "execution_count": 43,
   "source": [
    "train_text = raw_train_ds.map(lambda x, y: x)\r\n",
    "vectorize_layer.adapt(train_text)"
   ],
   "outputs": [],
   "metadata": {}
  },
  {
   "cell_type": "code",
   "execution_count": 44,
   "source": [
    "def vectorize_text(text, label):\r\n",
    "  text = tf.expand_dims(text, -1)\r\n",
    "  return vectorize_layer(text), label"
   ],
   "outputs": [],
   "metadata": {}
  },
  {
   "cell_type": "code",
   "execution_count": 45,
   "source": [
    "# пример обработки текста\r\n",
    "\r\n",
    "text_batch, label_batch = next(iter(raw_train_ds))\r\n",
    "first_review, first_label = text_batch[0], label_batch[0]\r\n",
    "print(\"Review\", first_review)\r\n",
    "print(\"Label\", raw_train_ds.class_names[first_label])\r\n",
    "print(\"Vectorized review\", vectorize_text(first_review, first_label))"
   ],
   "outputs": [
    {
     "output_type": "stream",
     "name": "stdout",
     "text": [
      "Review tf.Tensor(b'Great movie - especially the music - Etta James - \"At Last\". This speaks volumes when you have finally found that special someone.', shape=(), dtype=string)\n",
      "Label neg\n",
      "Vectorized review (<tf.Tensor: shape=(1, 250), dtype=int64, numpy=\n",
      "array([[  85,   17,  260,    2,  222,    1,  571,   31,  229,   11, 2421,\n",
      "           1,   51,   22,   25,  404,  251,   12,  308,  282,    0,    0,\n",
      "           0,    0,    0,    0,    0,    0,    0,    0,    0,    0,    0,\n",
      "           0,    0,    0,    0,    0,    0,    0,    0,    0,    0,    0,\n",
      "           0,    0,    0,    0,    0,    0,    0,    0,    0,    0,    0,\n",
      "           0,    0,    0,    0,    0,    0,    0,    0,    0,    0,    0,\n",
      "           0,    0,    0,    0,    0,    0,    0,    0,    0,    0,    0,\n",
      "           0,    0,    0,    0,    0,    0,    0,    0,    0,    0,    0,\n",
      "           0,    0,    0,    0,    0,    0,    0,    0,    0,    0,    0,\n",
      "           0,    0,    0,    0,    0,    0,    0,    0,    0,    0,    0,\n",
      "           0,    0,    0,    0,    0,    0,    0,    0,    0,    0,    0,\n",
      "           0,    0,    0,    0,    0,    0,    0,    0,    0,    0,    0,\n",
      "           0,    0,    0,    0,    0,    0,    0,    0,    0,    0,    0,\n",
      "           0,    0,    0,    0,    0,    0,    0,    0,    0,    0,    0,\n",
      "           0,    0,    0,    0,    0,    0,    0,    0,    0,    0,    0,\n",
      "           0,    0,    0,    0,    0,    0,    0,    0,    0,    0,    0,\n",
      "           0,    0,    0,    0,    0,    0,    0,    0,    0,    0,    0,\n",
      "           0,    0,    0,    0,    0,    0,    0,    0,    0,    0,    0,\n",
      "           0,    0,    0,    0,    0,    0,    0,    0,    0,    0,    0,\n",
      "           0,    0,    0,    0,    0,    0,    0,    0,    0,    0,    0,\n",
      "           0,    0,    0,    0,    0,    0,    0,    0,    0,    0,    0,\n",
      "           0,    0,    0,    0,    0,    0,    0,    0,    0,    0,    0,\n",
      "           0,    0,    0,    0,    0,    0,    0,    0]], dtype=int64)>, <tf.Tensor: shape=(), dtype=int32, numpy=0>)\n"
     ]
    }
   ],
   "metadata": {}
  },
  {
   "cell_type": "code",
   "execution_count": 46,
   "source": [
    "# коды для слов\r\n",
    "# 85 это код для great\r\n",
    "# с которого начинается отзыв\r\n",
    "\r\n",
    "print(\"1287 ---> \",vectorize_layer.get_vocabulary()[85])\r\n",
    "print(\" 313 ---> \",vectorize_layer.get_vocabulary()[17])\r\n",
    "print('Vocabulary size: {}'.format(len(vectorize_layer.get_vocabulary())))"
   ],
   "outputs": [
    {
     "output_type": "stream",
     "name": "stdout",
     "text": [
      "1287 --->  great\n",
      " 313 --->  movie\n",
      "Vocabulary size: 10000\n"
     ]
    }
   ],
   "metadata": {}
  },
  {
   "cell_type": "code",
   "execution_count": 47,
   "source": [
    "# обработка тренировочного\r\n",
    "# проверочного и тестового наборов\r\n",
    "\r\n",
    "train_ds = raw_train_ds.map(vectorize_text)\r\n",
    "val_ds = raw_val_ds.map(vectorize_text)\r\n",
    "test_ds = raw_test_ds.map(vectorize_text)"
   ],
   "outputs": [],
   "metadata": {}
  },
  {
   "cell_type": "code",
   "execution_count": 48,
   "source": [
    "# дополнительные методы \r\n",
    "# повышения производительности обработки данных\r\n",
    "# в памяти\r\n",
    "\r\n",
    "AUTOTUNE = tf.data.AUTOTUNE\r\n",
    "\r\n",
    "train_ds = train_ds.cache().prefetch(buffer_size=AUTOTUNE)\r\n",
    "val_ds = val_ds.cache().prefetch(buffer_size=AUTOTUNE)\r\n",
    "test_ds = test_ds.cache().prefetch(buffer_size=AUTOTUNE)"
   ],
   "outputs": [],
   "metadata": {}
  },
  {
   "cell_type": "markdown",
   "source": [
    "### Создание модели"
   ],
   "metadata": {}
  },
  {
   "cell_type": "code",
   "execution_count": 49,
   "source": [
    "embedding_dim = 16"
   ],
   "outputs": [],
   "metadata": {}
  },
  {
   "cell_type": "code",
   "execution_count": 50,
   "source": [
    "# задаем слои\r\n",
    "\r\n",
    "model = tf.keras.Sequential([\r\n",
    "    layers.Embedding(max_features + 1, embedding_dim),\r\n",
    "    layers.Dropout(0.2),\r\n",
    "    layers.GlobalAveragePooling1D(),\r\n",
    "    layers.Dropout(0.2),\r\n",
    "    layers.Dense(1)\r\n",
    "])\r\n",
    "\r\n",
    "model.summary()"
   ],
   "outputs": [
    {
     "output_type": "stream",
     "name": "stdout",
     "text": [
      "Model: \"sequential_2\"\n",
      "_________________________________________________________________\n",
      "Layer (type)                 Output Shape              Param #   \n",
      "=================================================================\n",
      "embedding (Embedding)        (None, None, 16)          160016    \n",
      "_________________________________________________________________\n",
      "dropout (Dropout)            (None, None, 16)          0         \n",
      "_________________________________________________________________\n",
      "global_average_pooling1d (Gl (None, 16)                0         \n",
      "_________________________________________________________________\n",
      "dropout_1 (Dropout)          (None, 16)                0         \n",
      "_________________________________________________________________\n",
      "dense_2 (Dense)              (None, 1)                 17        \n",
      "=================================================================\n",
      "Total params: 160,033\n",
      "Trainable params: 160,033\n",
      "Non-trainable params: 0\n",
      "_________________________________________________________________\n"
     ]
    }
   ],
   "metadata": {}
  },
  {
   "cell_type": "code",
   "execution_count": 51,
   "source": [
    "# компилируем модель\r\n",
    "\r\n",
    "model.compile(loss=losses.BinaryCrossentropy(from_logits=True),\r\n",
    "optimizer='adam',\r\n",
    "metrics=tf.metrics.BinaryAccuracy(threshold=0.0))"
   ],
   "outputs": [],
   "metadata": {}
  },
  {
   "cell_type": "markdown",
   "source": [
    "### Обучение модели"
   ],
   "metadata": {}
  },
  {
   "cell_type": "code",
   "execution_count": 52,
   "source": [
    "# обучаем модель\r\n",
    "\r\n",
    "epochs = 2\r\n",
    "history = model.fit(\r\n",
    "    train_ds,\r\n",
    "    validation_data=val_ds,\r\n",
    "    epochs=epochs\r\n",
    ")"
   ],
   "outputs": [
    {
     "output_type": "stream",
     "name": "stdout",
     "text": [
      "Epoch 1/2\n",
      "625/625 [==============================] - 68s 107ms/step - loss: 0.6622 - binary_accuracy: 0.6993 - val_loss: 0.6120 - val_binary_accuracy: 0.7748\n",
      "Epoch 2/2\n",
      "625/625 [==============================] - 3s 4ms/step - loss: 0.5462 - binary_accuracy: 0.8039 - val_loss: 0.4964 - val_binary_accuracy: 0.8234\n"
     ]
    }
   ],
   "metadata": {}
  },
  {
   "cell_type": "markdown",
   "source": [
    "### Оценка модели"
   ],
   "metadata": {}
  },
  {
   "cell_type": "code",
   "execution_count": 53,
   "source": [
    "loss, accuracy =  model.evaluate(test_ds)\r\n",
    "\r\n",
    "print(\"Loss: \", loss)\r\n",
    "print(\"Accurace: \", accuracy)"
   ],
   "outputs": [
    {
     "output_type": "stream",
     "name": "stdout",
     "text": [
      "782/782 [==============================] - 255s 321ms/step - loss: 0.5021 - binary_accuracy: 0.8158\n",
      "Loss:  0.5020954608917236\n",
      "Accurace:  0.8158400058746338\n"
     ]
    }
   ],
   "metadata": {}
  },
  {
   "cell_type": "code",
   "execution_count": 54,
   "source": [
    "history_dict = history.history\r\n",
    "history_dict.keys()"
   ],
   "outputs": [
    {
     "output_type": "execute_result",
     "data": {
      "text/plain": [
       "dict_keys(['loss', 'binary_accuracy', 'val_loss', 'val_binary_accuracy'])"
      ]
     },
     "metadata": {},
     "execution_count": 54
    }
   ],
   "metadata": {}
  },
  {
   "cell_type": "markdown",
   "source": [
    "Ниже приведены графики оценки модели"
   ],
   "metadata": {}
  },
  {
   "cell_type": "code",
   "execution_count": 55,
   "source": [
    "acc = history_dict['binary_accuracy']\r\n",
    "val_acc = history_dict['val_binary_accuracy']\r\n",
    "loss = history_dict['loss']\r\n",
    "val_loss = history_dict['val_loss']\r\n",
    "\r\n",
    "epochs = range(1, len(acc) + 1)\r\n",
    "\r\n",
    "# \"bo\" is for \"blue dot\"\r\n",
    "plt.plot(epochs, loss, 'bo', label='Training loss')\r\n",
    "# b is for \"solid blue line\"\r\n",
    "plt.plot(epochs, val_loss, 'b', label='Validation loss')\r\n",
    "plt.title('Training and validation loss')\r\n",
    "plt.xlabel('Epochs')\r\n",
    "plt.ylabel('Loss')\r\n",
    "plt.legend()\r\n",
    "\r\n",
    "plt.show()"
   ],
   "outputs": [
    {
     "output_type": "display_data",
     "data": {
      "image/png": "[encoded data removed]",
      "text/plain": [
       "<Figure size 432x288 with 1 Axes>"
      ]
     },
     "metadata": {
      "needs_background": "light"
     }
    }
   ],
   "metadata": {}
  },
  {
   "cell_type": "code",
   "execution_count": 56,
   "source": [
    "plt.plot(epochs, acc, 'bo', label='Training acc')\r\n",
    "plt.plot(epochs, val_acc, 'b', label='Validation acc')\r\n",
    "plt.title('Training and validation accuracy')\r\n",
    "plt.xlabel('Epochs')\r\n",
    "plt.ylabel('Accuracy')\r\n",
    "plt.legend(loc='lower right')\r\n",
    "\r\n",
    "plt.show()"
   ],
   "outputs": [
    {
     "output_type": "display_data",
     "data": {
      "image/png": "[encoded data removed]",
      "text/plain": [
       "<Figure size 432x288 with 1 Axes>"
      ]
     },
     "metadata": {
      "needs_background": "light"
     }
    }
   ],
   "metadata": {}
  },
  {
   "cell_type": "code",
   "execution_count": 57,
   "source": [
    "export_model = tf.keras.Sequential([\r\n",
    "  vectorize_layer,\r\n",
    "  model,\r\n",
    "  layers.Activation('sigmoid')\r\n",
    "])\r\n",
    "\r\n",
    "export_model.compile(\r\n",
    "    loss=losses.BinaryCrossentropy(from_logits=False), optimizer=\"adam\", metrics=['accuracy']\r\n",
    ")\r\n",
    "\r\n",
    "loss, accuracy = export_model.evaluate(raw_test_ds)\r\n",
    "print(accuracy)"
   ],
   "outputs": [
    {
     "output_type": "stream",
     "name": "stdout",
     "text": [
      "782/782 [==============================] - 4s 5ms/step - loss: 0.5021 - accuracy: 0.8158\n",
      "0.8158400058746338\n"
     ]
    }
   ],
   "metadata": {}
  },
  {
   "cell_type": "code",
   "execution_count": 58,
   "source": [
    "examples = [\r\n",
    "  \"The movie was great!\",\r\n",
    "  \"The movie was okay.\",\r\n",
    "  \"The movie was terrible...\"\r\n",
    "]\r\n",
    "\r\n",
    "export_model.predict(examples)"
   ],
   "outputs": [
    {
     "output_type": "execute_result",
     "data": {
      "text/plain": [
       "array([[0.56515664],\n",
       "       [0.5303381 ],\n",
       "       [0.51603884]], dtype=float32)"
      ]
     },
     "metadata": {},
     "execution_count": 58
    }
   ],
   "metadata": {}
  },
  {
   "cell_type": "markdown",
   "source": [
    "# Пример на регрессию"
   ],
   "metadata": {}
  },
  {
   "cell_type": "code",
   "execution_count": 59,
   "source": [
    "import matplotlib.pyplot as plt\r\n",
    "import numpy as np\r\n",
    "import pandas as pd\r\n",
    "import seaborn as sns"
   ],
   "outputs": [],
   "metadata": {}
  },
  {
   "cell_type": "code",
   "execution_count": 60,
   "source": [
    "# получение данных\r\n",
    "\r\n",
    "url = 'http://archive.ics.uci.edu/ml/machine-learning-databases/auto-mpg/auto-mpg.data'\r\n",
    "column_names = ['MPG', 'Cylinders', 'Displacement', 'Horsepower', 'Weight',\r\n",
    "                'Acceleration', 'Model Year', 'Origin']\r\n",
    "raw_dataset = pd.read_csv(url, names=column_names, na_values='?', comment='\\t',\r\n",
    "sep=' ', skipinitialspace=True)"
   ],
   "outputs": [],
   "metadata": {}
  },
  {
   "cell_type": "code",
   "execution_count": 61,
   "source": [
    "dataset = raw_dataset.copy()\r\n",
    "dataset.tail()"
   ],
   "outputs": [
    {
     "output_type": "execute_result",
     "data": {
      "text/html": [
       "<div>\n",
       "<style scoped>\n",
       "    .dataframe tbody tr th:only-of-type {\n",
       "        vertical-align: middle;\n",
       "    }\n",
       "\n",
       "    .dataframe tbody tr th {\n",
       "        vertical-align: top;\n",
       "    }\n",
       "\n",
       "    .dataframe thead th {\n",
       "        text-align: right;\n",
       "    }\n",
       "</style>\n",
       "<table border=\"1\" class=\"dataframe\">\n",
       "  <thead>\n",
       "    <tr style=\"text-align: right;\">\n",
       "      <th></th>\n",
       "      <th>MPG</th>\n",
       "      <th>Cylinders</th>\n",
       "      <th>Displacement</th>\n",
       "      <th>Horsepower</th>\n",
       "      <th>Weight</th>\n",
       "      <th>Acceleration</th>\n",
       "      <th>Model Year</th>\n",
       "      <th>Origin</th>\n",
       "    </tr>\n",
       "  </thead>\n",
       "  <tbody>\n",
       "    <tr>\n",
       "      <th>393</th>\n",
       "      <td>27.0</td>\n",
       "      <td>4</td>\n",
       "      <td>140.0</td>\n",
       "      <td>86.0</td>\n",
       "      <td>2790.0</td>\n",
       "      <td>15.6</td>\n",
       "      <td>82</td>\n",
       "      <td>1</td>\n",
       "    </tr>\n",
       "    <tr>\n",
       "      <th>394</th>\n",
       "      <td>44.0</td>\n",
       "      <td>4</td>\n",
       "      <td>97.0</td>\n",
       "      <td>52.0</td>\n",
       "      <td>2130.0</td>\n",
       "      <td>24.6</td>\n",
       "      <td>82</td>\n",
       "      <td>2</td>\n",
       "    </tr>\n",
       "    <tr>\n",
       "      <th>395</th>\n",
       "      <td>32.0</td>\n",
       "      <td>4</td>\n",
       "      <td>135.0</td>\n",
       "      <td>84.0</td>\n",
       "      <td>2295.0</td>\n",
       "      <td>11.6</td>\n",
       "      <td>82</td>\n",
       "      <td>1</td>\n",
       "    </tr>\n",
       "    <tr>\n",
       "      <th>396</th>\n",
       "      <td>28.0</td>\n",
       "      <td>4</td>\n",
       "      <td>120.0</td>\n",
       "      <td>79.0</td>\n",
       "      <td>2625.0</td>\n",
       "      <td>18.6</td>\n",
       "      <td>82</td>\n",
       "      <td>1</td>\n",
       "    </tr>\n",
       "    <tr>\n",
       "      <th>397</th>\n",
       "      <td>31.0</td>\n",
       "      <td>4</td>\n",
       "      <td>119.0</td>\n",
       "      <td>82.0</td>\n",
       "      <td>2720.0</td>\n",
       "      <td>19.4</td>\n",
       "      <td>82</td>\n",
       "      <td>1</td>\n",
       "    </tr>\n",
       "  </tbody>\n",
       "</table>\n",
       "</div>"
      ],
      "text/plain": [
       "      MPG  Cylinders  Displacement  Horsepower  Weight  Acceleration  \\\n",
       "393  27.0          4         140.0        86.0  2790.0          15.6   \n",
       "394  44.0          4          97.0        52.0  2130.0          24.6   \n",
       "395  32.0          4         135.0        84.0  2295.0          11.6   \n",
       "396  28.0          4         120.0        79.0  2625.0          18.6   \n",
       "397  31.0          4         119.0        82.0  2720.0          19.4   \n",
       "\n",
       "     Model Year  Origin  \n",
       "393          82       1  \n",
       "394          82       2  \n",
       "395          82       1  \n",
       "396          82       1  \n",
       "397          82       1  "
      ]
     },
     "metadata": {},
     "execution_count": 61
    }
   ],
   "metadata": {}
  },
  {
   "cell_type": "code",
   "execution_count": 62,
   "source": [
    "# удаляем пропуски\r\n",
    "\r\n",
    "dataset = dataset.dropna()"
   ],
   "outputs": [],
   "metadata": {}
  },
  {
   "cell_type": "code",
   "execution_count": 63,
   "source": [
    "# кодируем категориальные данные\r\n",
    "\r\n",
    "dataset['Origin'] = dataset['Origin'].map({1: 'USA', 2: 'Europe', 3: 'Japan'})\r\n",
    "dataset = pd.get_dummies(dataset, columns=['Origin'], prefix='', prefix_sep='')\r\n",
    "dataset.tail()"
   ],
   "outputs": [
    {
     "output_type": "execute_result",
     "data": {
      "text/html": [
       "<div>\n",
       "<style scoped>\n",
       "    .dataframe tbody tr th:only-of-type {\n",
       "        vertical-align: middle;\n",
       "    }\n",
       "\n",
       "    .dataframe tbody tr th {\n",
       "        vertical-align: top;\n",
       "    }\n",
       "\n",
       "    .dataframe thead th {\n",
       "        text-align: right;\n",
       "    }\n",
       "</style>\n",
       "<table border=\"1\" class=\"dataframe\">\n",
       "  <thead>\n",
       "    <tr style=\"text-align: right;\">\n",
       "      <th></th>\n",
       "      <th>MPG</th>\n",
       "      <th>Cylinders</th>\n",
       "      <th>Displacement</th>\n",
       "      <th>Horsepower</th>\n",
       "      <th>Weight</th>\n",
       "      <th>Acceleration</th>\n",
       "      <th>Model Year</th>\n",
       "      <th>Europe</th>\n",
       "      <th>Japan</th>\n",
       "      <th>USA</th>\n",
       "    </tr>\n",
       "  </thead>\n",
       "  <tbody>\n",
       "    <tr>\n",
       "      <th>393</th>\n",
       "      <td>27.0</td>\n",
       "      <td>4</td>\n",
       "      <td>140.0</td>\n",
       "      <td>86.0</td>\n",
       "      <td>2790.0</td>\n",
       "      <td>15.6</td>\n",
       "      <td>82</td>\n",
       "      <td>0</td>\n",
       "      <td>0</td>\n",
       "      <td>1</td>\n",
       "    </tr>\n",
       "    <tr>\n",
       "      <th>394</th>\n",
       "      <td>44.0</td>\n",
       "      <td>4</td>\n",
       "      <td>97.0</td>\n",
       "      <td>52.0</td>\n",
       "      <td>2130.0</td>\n",
       "      <td>24.6</td>\n",
       "      <td>82</td>\n",
       "      <td>1</td>\n",
       "      <td>0</td>\n",
       "      <td>0</td>\n",
       "    </tr>\n",
       "    <tr>\n",
       "      <th>395</th>\n",
       "      <td>32.0</td>\n",
       "      <td>4</td>\n",
       "      <td>135.0</td>\n",
       "      <td>84.0</td>\n",
       "      <td>2295.0</td>\n",
       "      <td>11.6</td>\n",
       "      <td>82</td>\n",
       "      <td>0</td>\n",
       "      <td>0</td>\n",
       "      <td>1</td>\n",
       "    </tr>\n",
       "    <tr>\n",
       "      <th>396</th>\n",
       "      <td>28.0</td>\n",
       "      <td>4</td>\n",
       "      <td>120.0</td>\n",
       "      <td>79.0</td>\n",
       "      <td>2625.0</td>\n",
       "      <td>18.6</td>\n",
       "      <td>82</td>\n",
       "      <td>0</td>\n",
       "      <td>0</td>\n",
       "      <td>1</td>\n",
       "    </tr>\n",
       "    <tr>\n",
       "      <th>397</th>\n",
       "      <td>31.0</td>\n",
       "      <td>4</td>\n",
       "      <td>119.0</td>\n",
       "      <td>82.0</td>\n",
       "      <td>2720.0</td>\n",
       "      <td>19.4</td>\n",
       "      <td>82</td>\n",
       "      <td>0</td>\n",
       "      <td>0</td>\n",
       "      <td>1</td>\n",
       "    </tr>\n",
       "  </tbody>\n",
       "</table>\n",
       "</div>"
      ],
      "text/plain": [
       "      MPG  Cylinders  Displacement  Horsepower  Weight  Acceleration  \\\n",
       "393  27.0          4         140.0        86.0  2790.0          15.6   \n",
       "394  44.0          4          97.0        52.0  2130.0          24.6   \n",
       "395  32.0          4         135.0        84.0  2295.0          11.6   \n",
       "396  28.0          4         120.0        79.0  2625.0          18.6   \n",
       "397  31.0          4         119.0        82.0  2720.0          19.4   \n",
       "\n",
       "     Model Year  Europe  Japan  USA  \n",
       "393          82       0      0    1  \n",
       "394          82       1      0    0  \n",
       "395          82       0      0    1  \n",
       "396          82       0      0    1  \n",
       "397          82       0      0    1  "
      ]
     },
     "metadata": {},
     "execution_count": 63
    }
   ],
   "metadata": {}
  },
  {
   "cell_type": "code",
   "execution_count": 64,
   "source": [
    "# делим данные на тренировочные и тестовые\r\n",
    "\r\n",
    "train_dataset = dataset.sample(frac=0.8, random_state=0)\r\n",
    "test_dataset = dataset.drop(train_dataset.index)"
   ],
   "outputs": [],
   "metadata": {}
  },
  {
   "cell_type": "code",
   "execution_count": 65,
   "source": [
    "# посмотрим распределение\r\n",
    "# и взаимосвязи наших признаков\r\n",
    "\r\n",
    "sns.pairplot(train_dataset[['MPG', 'Cylinders', 'Displacement', 'Weight']], diag_kind='kde')"
   ],
   "outputs": [
    {
     "output_type": "execute_result",
     "data": {
      "text/plain": [
       "<seaborn.axisgrid.PairGrid at 0x207861d6df0>"
      ]
     },
     "metadata": {},
     "execution_count": 65
    },
    {
     "output_type": "display_data",
     "data": {
      "image/png": "[encoded data removed]",
      "text/plain": [
       "<Figure size 720x720 with 20 Axes>"
      ]
     },
     "metadata": {
      "needs_background": "light"
     }
    }
   ],
   "metadata": {}
  },
  {
   "cell_type": "code",
   "execution_count": 66,
   "source": [
    "# выводит с учетом категории\r\n",
    "\r\n",
    "train_dataset.describe().transpose() "
   ],
   "outputs": [
    {
     "output_type": "execute_result",
     "data": {
      "text/html": [
       "<div>\n",
       "<style scoped>\n",
       "    .dataframe tbody tr th:only-of-type {\n",
       "        vertical-align: middle;\n",
       "    }\n",
       "\n",
       "    .dataframe tbody tr th {\n",
       "        vertical-align: top;\n",
       "    }\n",
       "\n",
       "    .dataframe thead th {\n",
       "        text-align: right;\n",
       "    }\n",
       "</style>\n",
       "<table border=\"1\" class=\"dataframe\">\n",
       "  <thead>\n",
       "    <tr style=\"text-align: right;\">\n",
       "      <th></th>\n",
       "      <th>count</th>\n",
       "      <th>mean</th>\n",
       "      <th>std</th>\n",
       "      <th>min</th>\n",
       "      <th>25%</th>\n",
       "      <th>50%</th>\n",
       "      <th>75%</th>\n",
       "      <th>max</th>\n",
       "    </tr>\n",
       "  </thead>\n",
       "  <tbody>\n",
       "    <tr>\n",
       "      <th>MPG</th>\n",
       "      <td>314.0</td>\n",
       "      <td>23.310510</td>\n",
       "      <td>7.728652</td>\n",
       "      <td>10.0</td>\n",
       "      <td>17.00</td>\n",
       "      <td>22.0</td>\n",
       "      <td>28.95</td>\n",
       "      <td>46.6</td>\n",
       "    </tr>\n",
       "    <tr>\n",
       "      <th>Cylinders</th>\n",
       "      <td>314.0</td>\n",
       "      <td>5.477707</td>\n",
       "      <td>1.699788</td>\n",
       "      <td>3.0</td>\n",
       "      <td>4.00</td>\n",
       "      <td>4.0</td>\n",
       "      <td>8.00</td>\n",
       "      <td>8.0</td>\n",
       "    </tr>\n",
       "    <tr>\n",
       "      <th>Displacement</th>\n",
       "      <td>314.0</td>\n",
       "      <td>195.318471</td>\n",
       "      <td>104.331589</td>\n",
       "      <td>68.0</td>\n",
       "      <td>105.50</td>\n",
       "      <td>151.0</td>\n",
       "      <td>265.75</td>\n",
       "      <td>455.0</td>\n",
       "    </tr>\n",
       "    <tr>\n",
       "      <th>Horsepower</th>\n",
       "      <td>314.0</td>\n",
       "      <td>104.869427</td>\n",
       "      <td>38.096214</td>\n",
       "      <td>46.0</td>\n",
       "      <td>76.25</td>\n",
       "      <td>94.5</td>\n",
       "      <td>128.00</td>\n",
       "      <td>225.0</td>\n",
       "    </tr>\n",
       "    <tr>\n",
       "      <th>Weight</th>\n",
       "      <td>314.0</td>\n",
       "      <td>2990.251592</td>\n",
       "      <td>843.898596</td>\n",
       "      <td>1649.0</td>\n",
       "      <td>2256.50</td>\n",
       "      <td>2822.5</td>\n",
       "      <td>3608.00</td>\n",
       "      <td>5140.0</td>\n",
       "    </tr>\n",
       "    <tr>\n",
       "      <th>Acceleration</th>\n",
       "      <td>314.0</td>\n",
       "      <td>15.559236</td>\n",
       "      <td>2.789230</td>\n",
       "      <td>8.0</td>\n",
       "      <td>13.80</td>\n",
       "      <td>15.5</td>\n",
       "      <td>17.20</td>\n",
       "      <td>24.8</td>\n",
       "    </tr>\n",
       "    <tr>\n",
       "      <th>Model Year</th>\n",
       "      <td>314.0</td>\n",
       "      <td>75.898089</td>\n",
       "      <td>3.675642</td>\n",
       "      <td>70.0</td>\n",
       "      <td>73.00</td>\n",
       "      <td>76.0</td>\n",
       "      <td>79.00</td>\n",
       "      <td>82.0</td>\n",
       "    </tr>\n",
       "    <tr>\n",
       "      <th>Europe</th>\n",
       "      <td>314.0</td>\n",
       "      <td>0.178344</td>\n",
       "      <td>0.383413</td>\n",
       "      <td>0.0</td>\n",
       "      <td>0.00</td>\n",
       "      <td>0.0</td>\n",
       "      <td>0.00</td>\n",
       "      <td>1.0</td>\n",
       "    </tr>\n",
       "    <tr>\n",
       "      <th>Japan</th>\n",
       "      <td>314.0</td>\n",
       "      <td>0.197452</td>\n",
       "      <td>0.398712</td>\n",
       "      <td>0.0</td>\n",
       "      <td>0.00</td>\n",
       "      <td>0.0</td>\n",
       "      <td>0.00</td>\n",
       "      <td>1.0</td>\n",
       "    </tr>\n",
       "    <tr>\n",
       "      <th>USA</th>\n",
       "      <td>314.0</td>\n",
       "      <td>0.624204</td>\n",
       "      <td>0.485101</td>\n",
       "      <td>0.0</td>\n",
       "      <td>0.00</td>\n",
       "      <td>1.0</td>\n",
       "      <td>1.00</td>\n",
       "      <td>1.0</td>\n",
       "    </tr>\n",
       "  </tbody>\n",
       "</table>\n",
       "</div>"
      ],
      "text/plain": [
       "              count         mean         std     min      25%     50%  \\\n",
       "MPG           314.0    23.310510    7.728652    10.0    17.00    22.0   \n",
       "Cylinders     314.0     5.477707    1.699788     3.0     4.00     4.0   \n",
       "Displacement  314.0   195.318471  104.331589    68.0   105.50   151.0   \n",
       "Horsepower    314.0   104.869427   38.096214    46.0    76.25    94.5   \n",
       "Weight        314.0  2990.251592  843.898596  1649.0  2256.50  2822.5   \n",
       "Acceleration  314.0    15.559236    2.789230     8.0    13.80    15.5   \n",
       "Model Year    314.0    75.898089    3.675642    70.0    73.00    76.0   \n",
       "Europe        314.0     0.178344    0.383413     0.0     0.00     0.0   \n",
       "Japan         314.0     0.197452    0.398712     0.0     0.00     0.0   \n",
       "USA           314.0     0.624204    0.485101     0.0     0.00     1.0   \n",
       "\n",
       "                  75%     max  \n",
       "MPG             28.95    46.6  \n",
       "Cylinders        8.00     8.0  \n",
       "Displacement   265.75   455.0  \n",
       "Horsepower     128.00   225.0  \n",
       "Weight        3608.00  5140.0  \n",
       "Acceleration    17.20    24.8  \n",
       "Model Year      79.00    82.0  \n",
       "Europe           0.00     1.0  \n",
       "Japan            0.00     1.0  \n",
       "USA              1.00     1.0  "
      ]
     },
     "metadata": {},
     "execution_count": 66
    }
   ],
   "metadata": {}
  },
  {
   "cell_type": "code",
   "execution_count": 67,
   "source": [
    "from tensorflow import keras\r\n",
    "from tensorflow.keras import layers\r\n",
    "from tensorflow.keras.layers.experimental import preprocessing"
   ],
   "outputs": [],
   "metadata": {}
  },
  {
   "cell_type": "code",
   "execution_count": 68,
   "source": [
    "# делим на признаки \r\n",
    "# и целевой признак\r\n",
    "\r\n",
    "train_features = train_dataset.copy()\r\n",
    "test_features = test_dataset.copy()\r\n",
    "\r\n",
    "train_labels = train_features.pop('MPG')\r\n",
    "test_labels = test_features.pop('MPG')"
   ],
   "outputs": [],
   "metadata": {}
  },
  {
   "cell_type": "markdown",
   "source": [
    "### Подготовка данных"
   ],
   "metadata": {}
  },
  {
   "cell_type": "code",
   "execution_count": 69,
   "source": [
    "# ниже показан пример кода\r\n",
    "# для нормализации данных\r\n",
    "\r\n",
    "normalizer = preprocessing.Normalization(axis=-1)\r\n",
    "normalizer.adapt(np.array(train_features))\r\n"
   ],
   "outputs": [],
   "metadata": {}
  },
  {
   "cell_type": "code",
   "execution_count": 70,
   "source": [
    "first = np.array(train_features[:1])\r\n",
    "\r\n",
    "with np.printoptions(precision=2, suppress=True):\r\n",
    "  print('First example:', first)\r\n",
    "  print()\r\n",
    "  print('Normalized:', normalizer(first).numpy())"
   ],
   "outputs": [
    {
     "output_type": "stream",
     "name": "stdout",
     "text": [
      "First example: [[   4.    90.    75.  2125.    14.5   74.     0.     0.     1. ]]\n",
      "\n",
      "Normalized: [[-0.87 -1.01 -0.79 -1.03 -0.38 -0.52 -0.47 -0.5   0.78]]\n"
     ]
    }
   ],
   "metadata": {}
  },
  {
   "cell_type": "markdown",
   "source": [
    "### Создание модели"
   ],
   "metadata": {}
  },
  {
   "cell_type": "code",
   "execution_count": 71,
   "source": [
    "# нормализация\r\n",
    "\r\n",
    "horsepower = np.array(train_features['Horsepower'])\r\n",
    "horsepower_normalizer = preprocessing.Normalization(input_shape=[1,], axis=None)\r\n",
    "horsepower_normalizer.adapt(horsepower)"
   ],
   "outputs": [],
   "metadata": {}
  },
  {
   "cell_type": "markdown",
   "source": [
    "В том случае, если мы будем искать регрессию между целевым признаком и несколькими признаками, а ни одним как здесь, нормализацию надо применять ко всем признакам."
   ],
   "metadata": {}
  },
  {
   "cell_type": "code",
   "execution_count": 72,
   "source": [
    "# создание слоев\r\n",
    "\r\n",
    "horsepower_model = tf.keras.Sequential([\r\n",
    "    horsepower_normalizer,\r\n",
    "    layers.Dense(units=1)\r\n",
    "])\r\n",
    "\r\n",
    "horsepower_model.summary()"
   ],
   "outputs": [
    {
     "output_type": "stream",
     "name": "stdout",
     "text": [
      "Model: \"sequential_4\"\n",
      "_________________________________________________________________\n",
      "Layer (type)                 Output Shape              Param #   \n",
      "=================================================================\n",
      "normalization_1 (Normalizati (None, 1)                 3         \n",
      "_________________________________________________________________\n",
      "dense_3 (Dense)              (None, 1)                 2         \n",
      "=================================================================\n",
      "Total params: 5\n",
      "Trainable params: 2\n",
      "Non-trainable params: 3\n",
      "_________________________________________________________________\n"
     ]
    }
   ],
   "metadata": {}
  },
  {
   "cell_type": "code",
   "execution_count": 73,
   "source": [
    "horsepower_model.predict(horsepower[:10])"
   ],
   "outputs": [
    {
     "output_type": "execute_result",
     "data": {
      "text/plain": [
       "array([[ 0.16209894],\n",
       "       [ 0.09154905],\n",
       "       [-0.29918882],\n",
       "       [ 0.22722192],\n",
       "       [ 0.20551425],\n",
       "       [ 0.08069521],\n",
       "       [ 0.24350266],\n",
       "       [ 0.20551425],\n",
       "       [ 0.05356064],\n",
       "       [ 0.09154905]], dtype=float32)"
      ]
     },
     "metadata": {},
     "execution_count": 73
    }
   ],
   "metadata": {}
  },
  {
   "cell_type": "code",
   "execution_count": 74,
   "source": [
    "# компиляция модели\r\n",
    "\r\n",
    "horsepower_model.compile(\r\n",
    "    optimizer=tf.optimizers.Adam(learning_rate=0.1),\r\n",
    "    loss='mean_absolute_error'\r\n",
    ")"
   ],
   "outputs": [],
   "metadata": {}
  },
  {
   "cell_type": "markdown",
   "source": [
    "### Обучение модели"
   ],
   "metadata": {}
  },
  {
   "cell_type": "code",
   "execution_count": 75,
   "source": [
    "history = horsepower_model.fit(\r\n",
    "    train_features['Horsepower'], train_labels,\r\n",
    "    epochs=100,\r\n",
    "    verbose=0,\r\n",
    "    validation_split=0.2\r\n",
    ")"
   ],
   "outputs": [],
   "metadata": {}
  },
  {
   "cell_type": "code",
   "execution_count": 76,
   "source": [
    "hist = pd.DataFrame(history.history)\r\n",
    "hist['epoch'] = history.epoch\r\n",
    "hist.tail()"
   ],
   "outputs": [
    {
     "output_type": "execute_result",
     "data": {
      "text/html": [
       "<div>\n",
       "<style scoped>\n",
       "    .dataframe tbody tr th:only-of-type {\n",
       "        vertical-align: middle;\n",
       "    }\n",
       "\n",
       "    .dataframe tbody tr th {\n",
       "        vertical-align: top;\n",
       "    }\n",
       "\n",
       "    .dataframe thead th {\n",
       "        text-align: right;\n",
       "    }\n",
       "</style>\n",
       "<table border=\"1\" class=\"dataframe\">\n",
       "  <thead>\n",
       "    <tr style=\"text-align: right;\">\n",
       "      <th></th>\n",
       "      <th>loss</th>\n",
       "      <th>val_loss</th>\n",
       "      <th>epoch</th>\n",
       "    </tr>\n",
       "  </thead>\n",
       "  <tbody>\n",
       "    <tr>\n",
       "      <th>95</th>\n",
       "      <td>3.804988</td>\n",
       "      <td>4.166783</td>\n",
       "      <td>95</td>\n",
       "    </tr>\n",
       "    <tr>\n",
       "      <th>96</th>\n",
       "      <td>3.804411</td>\n",
       "      <td>4.192255</td>\n",
       "      <td>96</td>\n",
       "    </tr>\n",
       "    <tr>\n",
       "      <th>97</th>\n",
       "      <td>3.802319</td>\n",
       "      <td>4.202249</td>\n",
       "      <td>97</td>\n",
       "    </tr>\n",
       "    <tr>\n",
       "      <th>98</th>\n",
       "      <td>3.802693</td>\n",
       "      <td>4.189164</td>\n",
       "      <td>98</td>\n",
       "    </tr>\n",
       "    <tr>\n",
       "      <th>99</th>\n",
       "      <td>3.802615</td>\n",
       "      <td>4.184511</td>\n",
       "      <td>99</td>\n",
       "    </tr>\n",
       "  </tbody>\n",
       "</table>\n",
       "</div>"
      ],
      "text/plain": [
       "        loss  val_loss  epoch\n",
       "95  3.804988  4.166783     95\n",
       "96  3.804411  4.192255     96\n",
       "97  3.802319  4.202249     97\n",
       "98  3.802693  4.189164     98\n",
       "99  3.802615  4.184511     99"
      ]
     },
     "metadata": {},
     "execution_count": 76
    }
   ],
   "metadata": {}
  },
  {
   "cell_type": "code",
   "execution_count": 77,
   "source": [
    "def plot_loss(history):\r\n",
    "  plt.plot(history.history['loss'], label='loss')\r\n",
    "  plt.plot(history.history['val_loss'], label='val_loss')\r\n",
    "  plt.ylim([0, 10])\r\n",
    "  plt.xlabel('Epoch')\r\n",
    "  plt.ylabel('Error [MPG]')\r\n",
    "  plt.legend()\r\n",
    "  plt.grid(True)"
   ],
   "outputs": [],
   "metadata": {}
  },
  {
   "cell_type": "code",
   "execution_count": 78,
   "source": [
    "plot_loss(history)"
   ],
   "outputs": [
    {
     "output_type": "display_data",
     "data": {
      "image/png": "[encoded data removed]",
      "text/plain": [
       "<Figure size 432x288 with 1 Axes>"
      ]
     },
     "metadata": {
      "needs_background": "light"
     }
    }
   ],
   "metadata": {}
  },
  {
   "cell_type": "code",
   "execution_count": 79,
   "source": [
    "test_results = {}\r\n",
    "\r\n",
    "test_results['horsepower_model'] = horsepower_model.evaluate(\r\n",
    "    test_features['Horsepower'],\r\n",
    "    test_labels, verbose=0\r\n",
    ")"
   ],
   "outputs": [],
   "metadata": {}
  },
  {
   "cell_type": "markdown",
   "source": [
    "### Прогнозы модели"
   ],
   "metadata": {}
  },
  {
   "cell_type": "code",
   "execution_count": 80,
   "source": [
    "x = tf.linspace(0.0, 250, 251)\r\n",
    "y = horsepower_model.predict(x)"
   ],
   "outputs": [],
   "metadata": {}
  },
  {
   "cell_type": "code",
   "execution_count": 81,
   "source": [
    "def plot_horsepower(x, y):\r\n",
    "  plt.scatter(train_features['Horsepower'], train_labels, label='Data')\r\n",
    "  plt.plot(x, y, color='k', label='Predictions')\r\n",
    "  plt.xlabel('Horsepower')\r\n",
    "  plt.ylabel('MPG')\r\n",
    "  plt.legend()"
   ],
   "outputs": [],
   "metadata": {}
  },
  {
   "cell_type": "code",
   "execution_count": 82,
   "source": [
    "plot_horsepower(x,y)"
   ],
   "outputs": [
    {
     "output_type": "display_data",
     "data": {
      "image/png": "[encoded data removed]",
      "text/plain": [
       "<Figure size 432x288 with 1 Axes>"
      ]
     },
     "metadata": {
      "needs_background": "light"
     }
    }
   ],
   "metadata": {}
  },
  {
   "cell_type": "markdown",
   "source": [
    "### Обучение со скрытыми слоями"
   ],
   "metadata": {}
  },
  {
   "cell_type": "code",
   "execution_count": 83,
   "source": [
    "def build_and_compile_model(norm):\r\n",
    "  model = keras.Sequential([\r\n",
    "      norm,\r\n",
    "      layers.Dense(64, activation='relu'),\r\n",
    "      layers.Dense(64, activation='relu'),\r\n",
    "      layers.Dense(1)\r\n",
    "  ])\r\n",
    "\r\n",
    "  model.compile(loss='mean_absolute_error',\r\n",
    "                optimizer=tf.keras.optimizers.Adam(0.001))\r\n",
    "  return model"
   ],
   "outputs": [],
   "metadata": {}
  },
  {
   "cell_type": "code",
   "execution_count": 84,
   "source": [
    "# для одного независимого признака\r\n",
    "\r\n",
    "dnn_horsepower_model = build_and_compile_model(horsepower_normalizer)"
   ],
   "outputs": [],
   "metadata": {}
  },
  {
   "cell_type": "code",
   "execution_count": 85,
   "source": [
    "dnn_horsepower_model.summary()"
   ],
   "outputs": [
    {
     "output_type": "stream",
     "name": "stdout",
     "text": [
      "Model: \"sequential_5\"\n",
      "_________________________________________________________________\n",
      "Layer (type)                 Output Shape              Param #   \n",
      "=================================================================\n",
      "normalization_1 (Normalizati (None, 1)                 3         \n",
      "_________________________________________________________________\n",
      "dense_4 (Dense)              (None, 64)                128       \n",
      "_________________________________________________________________\n",
      "dense_5 (Dense)              (None, 64)                4160      \n",
      "_________________________________________________________________\n",
      "dense_6 (Dense)              (None, 1)                 65        \n",
      "=================================================================\n",
      "Total params: 4,356\n",
      "Trainable params: 4,353\n",
      "Non-trainable params: 3\n",
      "_________________________________________________________________\n"
     ]
    }
   ],
   "metadata": {}
  },
  {
   "cell_type": "code",
   "execution_count": 86,
   "source": [
    "history = dnn_horsepower_model.fit(\r\n",
    "    train_features['Horsepower'], train_labels,\r\n",
    "    validation_split=0.2,\r\n",
    "    verbose=0, epochs=100)"
   ],
   "outputs": [],
   "metadata": {}
  },
  {
   "cell_type": "code",
   "execution_count": 87,
   "source": [
    "plot_loss(history)"
   ],
   "outputs": [
    {
     "output_type": "display_data",
     "data": {
      "image/png": "[encoded data removed]",
      "text/plain": [
       "<Figure size 432x288 with 1 Axes>"
      ]
     },
     "metadata": {
      "needs_background": "light"
     }
    }
   ],
   "metadata": {}
  },
  {
   "cell_type": "code",
   "execution_count": 88,
   "source": [
    "# предсказание\r\n",
    "\r\n",
    "x = tf.linspace(0.0, 250, 251)\r\n",
    "y = dnn_horsepower_model.predict(x)"
   ],
   "outputs": [],
   "metadata": {}
  },
  {
   "cell_type": "code",
   "execution_count": 89,
   "source": [
    "plot_horsepower(x, y)"
   ],
   "outputs": [
    {
     "output_type": "display_data",
     "data": {
      "image/png": "[encoded data removed]",
      "text/plain": [
       "<Figure size 432x288 with 1 Axes>"
      ]
     },
     "metadata": {
      "needs_background": "light"
     }
    }
   ],
   "metadata": {}
  },
  {
   "cell_type": "markdown",
   "source": [
    "Скрытые слои позволяют учитывать нелинейность, что мы и видим на графике."
   ],
   "metadata": {}
  },
  {
   "cell_type": "code",
   "execution_count": 90,
   "source": [
    "test_results['dnn_horsepower_model'] = dnn_horsepower_model.evaluate(\r\n",
    "    test_features['Horsepower'], test_labels,\r\n",
    "    verbose=0)"
   ],
   "outputs": [],
   "metadata": {}
  },
  {
   "cell_type": "code",
   "execution_count": 91,
   "source": [
    "# для всех признаков\r\n",
    "\r\n",
    "dnn_model = build_and_compile_model(normalizer)\r\n",
    "dnn_model.summary()"
   ],
   "outputs": [
    {
     "output_type": "stream",
     "name": "stdout",
     "text": [
      "Model: \"sequential_6\"\n",
      "_________________________________________________________________\n",
      "Layer (type)                 Output Shape              Param #   \n",
      "=================================================================\n",
      "normalization (Normalization (None, 9)                 19        \n",
      "_________________________________________________________________\n",
      "dense_7 (Dense)              (None, 64)                640       \n",
      "_________________________________________________________________\n",
      "dense_8 (Dense)              (None, 64)                4160      \n",
      "_________________________________________________________________\n",
      "dense_9 (Dense)              (None, 1)                 65        \n",
      "=================================================================\n",
      "Total params: 4,884\n",
      "Trainable params: 4,865\n",
      "Non-trainable params: 19\n",
      "_________________________________________________________________\n"
     ]
    }
   ],
   "metadata": {}
  },
  {
   "cell_type": "code",
   "execution_count": 92,
   "source": [
    "history = dnn_model.fit(\r\n",
    "    train_features, train_labels,\r\n",
    "    validation_split=0.2,\r\n",
    "    verbose=0, epochs=100)"
   ],
   "outputs": [],
   "metadata": {}
  },
  {
   "cell_type": "code",
   "execution_count": 93,
   "source": [
    "plot_loss(history)"
   ],
   "outputs": [
    {
     "output_type": "display_data",
     "data": {
      "image/png": "[encoded data removed]",
      "text/plain": [
       "<Figure size 432x288 with 1 Axes>"
      ]
     },
     "metadata": {
      "needs_background": "light"
     }
    }
   ],
   "metadata": {}
  },
  {
   "cell_type": "code",
   "execution_count": 94,
   "source": [
    "test_results['dnn_model'] = dnn_model.evaluate(test_features, test_labels, verbose=0)"
   ],
   "outputs": [],
   "metadata": {}
  },
  {
   "cell_type": "markdown",
   "source": [
    "### Инспектирование модели"
   ],
   "metadata": {}
  },
  {
   "cell_type": "code",
   "execution_count": 95,
   "source": [
    "pd.DataFrame(test_results, index=['Mean absolute error [MPG]']).T"
   ],
   "outputs": [
    {
     "output_type": "execute_result",
     "data": {
      "text/html": [
       "<div>\n",
       "<style scoped>\n",
       "    .dataframe tbody tr th:only-of-type {\n",
       "        vertical-align: middle;\n",
       "    }\n",
       "\n",
       "    .dataframe tbody tr th {\n",
       "        vertical-align: top;\n",
       "    }\n",
       "\n",
       "    .dataframe thead th {\n",
       "        text-align: right;\n",
       "    }\n",
       "</style>\n",
       "<table border=\"1\" class=\"dataframe\">\n",
       "  <thead>\n",
       "    <tr style=\"text-align: right;\">\n",
       "      <th></th>\n",
       "      <th>Mean absolute error [MPG]</th>\n",
       "    </tr>\n",
       "  </thead>\n",
       "  <tbody>\n",
       "    <tr>\n",
       "      <th>horsepower_model</th>\n",
       "      <td>3.647203</td>\n",
       "    </tr>\n",
       "    <tr>\n",
       "      <th>dnn_horsepower_model</th>\n",
       "      <td>2.955918</td>\n",
       "    </tr>\n",
       "    <tr>\n",
       "      <th>dnn_model</th>\n",
       "      <td>1.674773</td>\n",
       "    </tr>\n",
       "  </tbody>\n",
       "</table>\n",
       "</div>"
      ],
      "text/plain": [
       "                      Mean absolute error [MPG]\n",
       "horsepower_model                       3.647203\n",
       "dnn_horsepower_model                   2.955918\n",
       "dnn_model                              1.674773"
      ]
     },
     "metadata": {},
     "execution_count": 95
    }
   ],
   "metadata": {}
  },
  {
   "cell_type": "code",
   "execution_count": 96,
   "source": [
    "test_predictions = dnn_model.predict(test_features).flatten()\r\n",
    "\r\n",
    "a = plt.axes(aspect='equal')\r\n",
    "plt.scatter(test_labels, test_predictions)\r\n",
    "plt.xlabel('True Values [MPG]')\r\n",
    "plt.ylabel('Predictions [MPG]')\r\n",
    "lims = [0, 50]\r\n",
    "plt.xlim(lims)\r\n",
    "plt.ylim(lims)\r\n",
    "_ = plt.plot(lims, lims)"
   ],
   "outputs": [
    {
     "output_type": "display_data",
     "data": {
      "image/png": "[encoded data removed]",
      "text/plain": [
       "<Figure size 432x288 with 1 Axes>"
      ]
     },
     "metadata": {
      "needs_background": "light"
     }
    }
   ],
   "metadata": {}
  },
  {
   "cell_type": "code",
   "execution_count": 97,
   "source": [
    "# оценка распределения ошибок\r\n",
    "\r\n",
    "error = test_predictions - test_labels\r\n",
    "plt.hist(error, bins=25)\r\n",
    "plt.xlabel('Prediction Error [MPG]')\r\n",
    "_ = plt.ylabel('Count')"
   ],
   "outputs": [
    {
     "output_type": "display_data",
     "data": {
      "image/png": "[encoded data removed]",
      "text/plain": [
       "<Figure size 432x288 with 1 Axes>"
      ]
     },
     "metadata": {
      "needs_background": "light"
     }
    }
   ],
   "metadata": {}
  },
  {
   "cell_type": "code",
   "execution_count": 98,
   "source": [
    "# сохранение модели\r\n",
    "dnn_model.save('dnn_model')"
   ],
   "outputs": [
    {
     "output_type": "stream",
     "name": "stdout",
     "text": [
      "INFO:tensorflow:Assets written to: dnn_model\\assets\n"
     ]
    }
   ],
   "metadata": {}
  },
  {
   "cell_type": "markdown",
   "source": [
    "# Данные Goodreads"
   ],
   "metadata": {}
  },
  {
   "cell_type": "markdown",
   "source": [
    "Теперь наконец-то мы можем заняться нашими данными. "
   ],
   "metadata": {}
  },
  {
   "cell_type": "code",
   "execution_count": 99,
   "source": [
    "data = pd.read_csv('D:/Data Science/Проекты/Metod_Goodreads/git_goodreads/gd_augmentation.csv', dtype = {'decade':'object','quarter':'object', 'tra_co':'object', 'multivolume':'object'}) "
   ],
   "outputs": [],
   "metadata": {}
  },
  {
   "cell_type": "code",
   "execution_count": 100,
   "source": [
    "db = data.copy()\r\n",
    "db = db[['average_rating', 'num_pages', 'ratings_count', 'text_reviews_count', 'len_title', 'polarity', 'subjectivity']]"
   ],
   "outputs": [],
   "metadata": {}
  },
  {
   "cell_type": "code",
   "execution_count": 101,
   "source": [
    "db"
   ],
   "outputs": [
    {
     "output_type": "execute_result",
     "data": {
      "text/html": [
       "<div>\n",
       "<style scoped>\n",
       "    .dataframe tbody tr th:only-of-type {\n",
       "        vertical-align: middle;\n",
       "    }\n",
       "\n",
       "    .dataframe tbody tr th {\n",
       "        vertical-align: top;\n",
       "    }\n",
       "\n",
       "    .dataframe thead th {\n",
       "        text-align: right;\n",
       "    }\n",
       "</style>\n",
       "<table border=\"1\" class=\"dataframe\">\n",
       "  <thead>\n",
       "    <tr style=\"text-align: right;\">\n",
       "      <th></th>\n",
       "      <th>average_rating</th>\n",
       "      <th>num_pages</th>\n",
       "      <th>ratings_count</th>\n",
       "      <th>text_reviews_count</th>\n",
       "      <th>len_title</th>\n",
       "      <th>polarity</th>\n",
       "      <th>subjectivity</th>\n",
       "    </tr>\n",
       "  </thead>\n",
       "  <tbody>\n",
       "    <tr>\n",
       "      <th>0</th>\n",
       "      <td>4.57</td>\n",
       "      <td>652</td>\n",
       "      <td>2095690</td>\n",
       "      <td>27591</td>\n",
       "      <td>39</td>\n",
       "      <td>-0.166667</td>\n",
       "      <td>0.166667</td>\n",
       "    </tr>\n",
       "    <tr>\n",
       "      <th>1</th>\n",
       "      <td>4.49</td>\n",
       "      <td>870</td>\n",
       "      <td>2153167</td>\n",
       "      <td>29221</td>\n",
       "      <td>42</td>\n",
       "      <td>0.000000</td>\n",
       "      <td>0.000000</td>\n",
       "    </tr>\n",
       "    <tr>\n",
       "      <th>2</th>\n",
       "      <td>4.42</td>\n",
       "      <td>352</td>\n",
       "      <td>6333</td>\n",
       "      <td>244</td>\n",
       "      <td>40</td>\n",
       "      <td>0.000000</td>\n",
       "      <td>0.000000</td>\n",
       "    </tr>\n",
       "    <tr>\n",
       "      <th>3</th>\n",
       "      <td>4.56</td>\n",
       "      <td>435</td>\n",
       "      <td>2339585</td>\n",
       "      <td>36325</td>\n",
       "      <td>41</td>\n",
       "      <td>0.000000</td>\n",
       "      <td>0.000000</td>\n",
       "    </tr>\n",
       "    <tr>\n",
       "      <th>4</th>\n",
       "      <td>4.78</td>\n",
       "      <td>2690</td>\n",
       "      <td>41428</td>\n",
       "      <td>164</td>\n",
       "      <td>34</td>\n",
       "      <td>0.000000</td>\n",
       "      <td>0.000000</td>\n",
       "    </tr>\n",
       "    <tr>\n",
       "      <th>...</th>\n",
       "      <td>...</td>\n",
       "      <td>...</td>\n",
       "      <td>...</td>\n",
       "      <td>...</td>\n",
       "      <td>...</td>\n",
       "      <td>...</td>\n",
       "      <td>...</td>\n",
       "    </tr>\n",
       "    <tr>\n",
       "      <th>10833</th>\n",
       "      <td>4.06</td>\n",
       "      <td>512</td>\n",
       "      <td>156</td>\n",
       "      <td>20</td>\n",
       "      <td>48</td>\n",
       "      <td>0.000000</td>\n",
       "      <td>0.000000</td>\n",
       "    </tr>\n",
       "    <tr>\n",
       "      <th>10834</th>\n",
       "      <td>4.08</td>\n",
       "      <td>635</td>\n",
       "      <td>783</td>\n",
       "      <td>56</td>\n",
       "      <td>27</td>\n",
       "      <td>0.700000</td>\n",
       "      <td>0.800000</td>\n",
       "    </tr>\n",
       "    <tr>\n",
       "      <th>10835</th>\n",
       "      <td>3.96</td>\n",
       "      <td>415</td>\n",
       "      <td>820</td>\n",
       "      <td>95</td>\n",
       "      <td>14</td>\n",
       "      <td>0.000000</td>\n",
       "      <td>0.000000</td>\n",
       "    </tr>\n",
       "    <tr>\n",
       "      <th>10836</th>\n",
       "      <td>3.72</td>\n",
       "      <td>434</td>\n",
       "      <td>769</td>\n",
       "      <td>139</td>\n",
       "      <td>11</td>\n",
       "      <td>-0.400000</td>\n",
       "      <td>0.600000</td>\n",
       "    </tr>\n",
       "    <tr>\n",
       "      <th>10837</th>\n",
       "      <td>3.91</td>\n",
       "      <td>272</td>\n",
       "      <td>113</td>\n",
       "      <td>12</td>\n",
       "      <td>27</td>\n",
       "      <td>0.000000</td>\n",
       "      <td>0.000000</td>\n",
       "    </tr>\n",
       "  </tbody>\n",
       "</table>\n",
       "<p>10838 rows × 7 columns</p>\n",
       "</div>"
      ],
      "text/plain": [
       "       average_rating  num_pages  ratings_count  text_reviews_count  \\\n",
       "0                4.57        652        2095690               27591   \n",
       "1                4.49        870        2153167               29221   \n",
       "2                4.42        352           6333                 244   \n",
       "3                4.56        435        2339585               36325   \n",
       "4                4.78       2690          41428                 164   \n",
       "...               ...        ...            ...                 ...   \n",
       "10833            4.06        512            156                  20   \n",
       "10834            4.08        635            783                  56   \n",
       "10835            3.96        415            820                  95   \n",
       "10836            3.72        434            769                 139   \n",
       "10837            3.91        272            113                  12   \n",
       "\n",
       "       len_title  polarity  subjectivity  \n",
       "0             39 -0.166667      0.166667  \n",
       "1             42  0.000000      0.000000  \n",
       "2             40  0.000000      0.000000  \n",
       "3             41  0.000000      0.000000  \n",
       "4             34  0.000000      0.000000  \n",
       "...          ...       ...           ...  \n",
       "10833         48  0.000000      0.000000  \n",
       "10834         27  0.700000      0.800000  \n",
       "10835         14  0.000000      0.000000  \n",
       "10836         11 -0.400000      0.600000  \n",
       "10837         27  0.000000      0.000000  \n",
       "\n",
       "[10838 rows x 7 columns]"
      ]
     },
     "metadata": {},
     "execution_count": 101
    }
   ],
   "metadata": {}
  },
  {
   "cell_type": "code",
   "execution_count": 102,
   "source": [
    "from sklearn.model_selection import train_test_split"
   ],
   "outputs": [],
   "metadata": {}
  },
  {
   "cell_type": "code",
   "execution_count": 103,
   "source": [
    "X = db.drop('average_rating', axis=1)\r\n",
    "y = db['average_rating']"
   ],
   "outputs": [],
   "metadata": {}
  },
  {
   "cell_type": "code",
   "execution_count": 104,
   "source": [
    "X_train, X_test, y_train, y_test = train_test_split(X, y, train_size=0.7, random_state=1) "
   ],
   "outputs": [],
   "metadata": {}
  },
  {
   "cell_type": "markdown",
   "source": [
    "Вначале мы с помощью нейронной сети предскажем среднюю оценку по количеству страниц. Затем добавим оставшиеся признаки.\r\n",
    "\r\n",
    "В последующих редакциях методички будут добавлены более продвинутые техники, в том числе и использование категориальных данных."
   ],
   "metadata": {}
  },
  {
   "cell_type": "markdown",
   "source": [
    "### Подготовка данных"
   ],
   "metadata": {}
  },
  {
   "cell_type": "code",
   "execution_count": 105,
   "source": [
    "aver_rat = np.array(X_train['num_pages'])"
   ],
   "outputs": [],
   "metadata": {}
  },
  {
   "cell_type": "code",
   "execution_count": 106,
   "source": [
    "aver_rat_norm = preprocessing.Normalization(input_shape=[1,], axis=None)"
   ],
   "outputs": [],
   "metadata": {}
  },
  {
   "cell_type": "code",
   "execution_count": 107,
   "source": [
    "aver_rat_norm.adapt(aver_rat)"
   ],
   "outputs": [],
   "metadata": {}
  },
  {
   "cell_type": "code",
   "execution_count": 108,
   "source": [
    "aver_rat_norm"
   ],
   "outputs": [
    {
     "output_type": "execute_result",
     "data": {
      "text/plain": [
       "<keras.layers.preprocessing.normalization.Normalization at 0x207ae2f0340>"
      ]
     },
     "metadata": {},
     "execution_count": 108
    }
   ],
   "metadata": {}
  },
  {
   "cell_type": "markdown",
   "source": [
    "### Создание модели"
   ],
   "metadata": {}
  },
  {
   "cell_type": "code",
   "execution_count": 109,
   "source": [
    "# создаем слои\r\n",
    "\r\n",
    "aver_model = tf.keras.Sequential([\r\n",
    "    aver_rat_norm,\r\n",
    "    layers.Dense(units=1)\r\n",
    "])\r\n",
    "\r\n",
    "aver_model.summary()"
   ],
   "outputs": [
    {
     "output_type": "stream",
     "name": "stdout",
     "text": [
      "Model: \"sequential_7\"\n",
      "_________________________________________________________________\n",
      "Layer (type)                 Output Shape              Param #   \n",
      "=================================================================\n",
      "normalization_2 (Normalizati (None, 1)                 3         \n",
      "_________________________________________________________________\n",
      "dense_10 (Dense)             (None, 1)                 2         \n",
      "=================================================================\n",
      "Total params: 5\n",
      "Trainable params: 2\n",
      "Non-trainable params: 3\n",
      "_________________________________________________________________\n"
     ]
    }
   ],
   "metadata": {}
  },
  {
   "cell_type": "code",
   "execution_count": 110,
   "source": [
    "# компиляция\r\n",
    "\r\n",
    "aver_model.compile(\r\n",
    "    optimizer = tf.optimizers.Adam(learning_rate=0.1),\r\n",
    "    loss='mean_absolute_error'\r\n",
    ")"
   ],
   "outputs": [],
   "metadata": {}
  },
  {
   "cell_type": "markdown",
   "source": [
    "### Обучение модели"
   ],
   "metadata": {}
  },
  {
   "cell_type": "code",
   "execution_count": 111,
   "source": [
    "history = aver_model.fit(\r\n",
    "\r\n",
    "    X_train['num_pages'], y_train,\r\n",
    "    epochs=100,\r\n",
    "    verbose=0,\r\n",
    "    validation_split = 0.2\r\n",
    "\r\n",
    ")"
   ],
   "outputs": [],
   "metadata": {}
  },
  {
   "cell_type": "markdown",
   "source": [
    "### Оценка результатов"
   ],
   "metadata": {}
  },
  {
   "cell_type": "code",
   "execution_count": 112,
   "source": [
    "hist = pd.DataFrame(history.history)\r\n",
    "hist['epoch'] = history.epoch\r\n",
    "hist.tail()"
   ],
   "outputs": [
    {
     "output_type": "execute_result",
     "data": {
      "text/html": [
       "<div>\n",
       "<style scoped>\n",
       "    .dataframe tbody tr th:only-of-type {\n",
       "        vertical-align: middle;\n",
       "    }\n",
       "\n",
       "    .dataframe tbody tr th {\n",
       "        vertical-align: top;\n",
       "    }\n",
       "\n",
       "    .dataframe thead th {\n",
       "        text-align: right;\n",
       "    }\n",
       "</style>\n",
       "<table border=\"1\" class=\"dataframe\">\n",
       "  <thead>\n",
       "    <tr style=\"text-align: right;\">\n",
       "      <th></th>\n",
       "      <th>loss</th>\n",
       "      <th>val_loss</th>\n",
       "      <th>epoch</th>\n",
       "    </tr>\n",
       "  </thead>\n",
       "  <tbody>\n",
       "    <tr>\n",
       "      <th>95</th>\n",
       "      <td>0.224271</td>\n",
       "      <td>0.249137</td>\n",
       "      <td>95</td>\n",
       "    </tr>\n",
       "    <tr>\n",
       "      <th>96</th>\n",
       "      <td>0.228400</td>\n",
       "      <td>0.237104</td>\n",
       "      <td>96</td>\n",
       "    </tr>\n",
       "    <tr>\n",
       "      <th>97</th>\n",
       "      <td>0.229051</td>\n",
       "      <td>0.228798</td>\n",
       "      <td>97</td>\n",
       "    </tr>\n",
       "    <tr>\n",
       "      <th>98</th>\n",
       "      <td>0.226422</td>\n",
       "      <td>0.235776</td>\n",
       "      <td>98</td>\n",
       "    </tr>\n",
       "    <tr>\n",
       "      <th>99</th>\n",
       "      <td>0.228827</td>\n",
       "      <td>0.228829</td>\n",
       "      <td>99</td>\n",
       "    </tr>\n",
       "  </tbody>\n",
       "</table>\n",
       "</div>"
      ],
      "text/plain": [
       "        loss  val_loss  epoch\n",
       "95  0.224271  0.249137     95\n",
       "96  0.228400  0.237104     96\n",
       "97  0.229051  0.228798     97\n",
       "98  0.226422  0.235776     98\n",
       "99  0.228827  0.228829     99"
      ]
     },
     "metadata": {},
     "execution_count": 112
    }
   ],
   "metadata": {}
  },
  {
   "cell_type": "markdown",
   "source": [
    "## Обучение на всем наборе"
   ],
   "metadata": {}
  },
  {
   "cell_type": "markdown",
   "source": [
    "### Подготовка данных"
   ],
   "metadata": {}
  },
  {
   "cell_type": "code",
   "execution_count": 113,
   "source": [
    "X = db.drop('average_rating', axis=1)\r\n",
    "y = db['average_rating']"
   ],
   "outputs": [],
   "metadata": {}
  },
  {
   "cell_type": "code",
   "execution_count": 114,
   "source": [
    "X_train1, X_test1, y_train1, y_test1 = train_test_split(X, y, train_size=0.7, random_state=1) "
   ],
   "outputs": [],
   "metadata": {}
  },
  {
   "cell_type": "code",
   "execution_count": 115,
   "source": [
    "normalizer = preprocessing.Normalization(axis=-1)\r\n",
    "normalizer.adapt(np.array(X_train1))"
   ],
   "outputs": [],
   "metadata": {}
  },
  {
   "cell_type": "markdown",
   "source": [
    "### Создание слоев"
   ],
   "metadata": {}
  },
  {
   "cell_type": "code",
   "execution_count": 116,
   "source": [
    "linear_model = tf.keras.Sequential([\r\n",
    "    normalizer,\r\n",
    "    layers.Dense(units=1)\r\n",
    "])"
   ],
   "outputs": [],
   "metadata": {}
  },
  {
   "cell_type": "markdown",
   "source": [
    "### Компиляция"
   ],
   "metadata": {}
  },
  {
   "cell_type": "code",
   "execution_count": 117,
   "source": [
    "linear_model.compile(\r\n",
    "    optimizer=tf.optimizers.Adam(learning_rate=0.1),\r\n",
    "    loss='mean_absolute_error')"
   ],
   "outputs": [],
   "metadata": {}
  },
  {
   "cell_type": "markdown",
   "source": [
    "### Обучение"
   ],
   "metadata": {}
  },
  {
   "cell_type": "code",
   "execution_count": 118,
   "source": [
    "history = linear_model.fit(\r\n",
    "    X_train1, y_train1, \r\n",
    "    epochs=100,\r\n",
    "    verbose=0,\r\n",
    "    validation_split = 0.2)"
   ],
   "outputs": [],
   "metadata": {}
  },
  {
   "cell_type": "code",
   "execution_count": 119,
   "source": [
    "hist = pd.DataFrame(history.history)\r\n",
    "hist['epoch'] = history.epoch\r\n",
    "hist.tail()"
   ],
   "outputs": [
    {
     "output_type": "execute_result",
     "data": {
      "text/html": [
       "<div>\n",
       "<style scoped>\n",
       "    .dataframe tbody tr th:only-of-type {\n",
       "        vertical-align: middle;\n",
       "    }\n",
       "\n",
       "    .dataframe tbody tr th {\n",
       "        vertical-align: top;\n",
       "    }\n",
       "\n",
       "    .dataframe thead th {\n",
       "        text-align: right;\n",
       "    }\n",
       "</style>\n",
       "<table border=\"1\" class=\"dataframe\">\n",
       "  <thead>\n",
       "    <tr style=\"text-align: right;\">\n",
       "      <th></th>\n",
       "      <th>loss</th>\n",
       "      <th>val_loss</th>\n",
       "      <th>epoch</th>\n",
       "    </tr>\n",
       "  </thead>\n",
       "  <tbody>\n",
       "    <tr>\n",
       "      <th>95</th>\n",
       "      <td>0.247630</td>\n",
       "      <td>0.244800</td>\n",
       "      <td>95</td>\n",
       "    </tr>\n",
       "    <tr>\n",
       "      <th>96</th>\n",
       "      <td>0.257805</td>\n",
       "      <td>0.251743</td>\n",
       "      <td>96</td>\n",
       "    </tr>\n",
       "    <tr>\n",
       "      <th>97</th>\n",
       "      <td>0.246639</td>\n",
       "      <td>0.264865</td>\n",
       "      <td>97</td>\n",
       "    </tr>\n",
       "    <tr>\n",
       "      <th>98</th>\n",
       "      <td>0.247047</td>\n",
       "      <td>0.244276</td>\n",
       "      <td>98</td>\n",
       "    </tr>\n",
       "    <tr>\n",
       "      <th>99</th>\n",
       "      <td>0.249937</td>\n",
       "      <td>0.234161</td>\n",
       "      <td>99</td>\n",
       "    </tr>\n",
       "  </tbody>\n",
       "</table>\n",
       "</div>"
      ],
      "text/plain": [
       "        loss  val_loss  epoch\n",
       "95  0.247630  0.244800     95\n",
       "96  0.257805  0.251743     96\n",
       "97  0.246639  0.264865     97\n",
       "98  0.247047  0.244276     98\n",
       "99  0.249937  0.234161     99"
      ]
     },
     "metadata": {},
     "execution_count": 119
    }
   ],
   "metadata": {}
  },
  {
   "cell_type": "markdown",
   "source": [
    "### Сеть со скрытыми слоями"
   ],
   "metadata": {}
  },
  {
   "cell_type": "code",
   "execution_count": 120,
   "source": [
    "X = db.drop('average_rating', axis=1)\r\n",
    "y = db['average_rating']"
   ],
   "outputs": [],
   "metadata": {}
  },
  {
   "cell_type": "code",
   "execution_count": 121,
   "source": [
    "X_train2, X_test2, y_train2, y_test2 = train_test_split(X, y, train_size=0.7, random_state=1) "
   ],
   "outputs": [],
   "metadata": {}
  },
  {
   "cell_type": "code",
   "execution_count": 122,
   "source": [
    "# зададим слои и\r\n",
    "# компиляцию через функцию\r\n",
    "\r\n",
    "def build_and_compile_model(norm):\r\n",
    "  model = keras.Sequential([\r\n",
    "      norm,\r\n",
    "      layers.Dense(64, activation='relu'),\r\n",
    "      layers.Dense(64, activation='relu'),\r\n",
    "      layers.Dense(1)\r\n",
    "  ])\r\n",
    "\r\n",
    "  model.compile(loss='mean_absolute_error',\r\n",
    "                optimizer=tf.keras.optimizers.Adam(0.001))\r\n",
    "  return model"
   ],
   "outputs": [],
   "metadata": {}
  },
  {
   "cell_type": "code",
   "execution_count": 123,
   "source": [
    "dnn_model = build_and_compile_model(normalizer)\r\n",
    "dnn_model.summary()"
   ],
   "outputs": [
    {
     "output_type": "stream",
     "name": "stdout",
     "text": [
      "Model: \"sequential_9\"\n",
      "_________________________________________________________________\n",
      "Layer (type)                 Output Shape              Param #   \n",
      "=================================================================\n",
      "normalization_3 (Normalizati (None, 6)                 13        \n",
      "_________________________________________________________________\n",
      "dense_12 (Dense)             (None, 64)                448       \n",
      "_________________________________________________________________\n",
      "dense_13 (Dense)             (None, 64)                4160      \n",
      "_________________________________________________________________\n",
      "dense_14 (Dense)             (None, 1)                 65        \n",
      "=================================================================\n",
      "Total params: 4,686\n",
      "Trainable params: 4,673\n",
      "Non-trainable params: 13\n",
      "_________________________________________________________________\n"
     ]
    }
   ],
   "metadata": {}
  },
  {
   "cell_type": "code",
   "execution_count": 124,
   "source": [
    "history = dnn_model.fit(\r\n",
    "    X_train2, y_train2,\r\n",
    "    validation_split=0.2,\r\n",
    "    verbose=0, epochs=100)"
   ],
   "outputs": [],
   "metadata": {}
  },
  {
   "cell_type": "code",
   "execution_count": 125,
   "source": [
    "hist = pd.DataFrame(history.history)\r\n",
    "hist['epoch'] = history.epoch\r\n",
    "hist.tail()"
   ],
   "outputs": [
    {
     "output_type": "execute_result",
     "data": {
      "text/html": [
       "<div>\n",
       "<style scoped>\n",
       "    .dataframe tbody tr th:only-of-type {\n",
       "        vertical-align: middle;\n",
       "    }\n",
       "\n",
       "    .dataframe tbody tr th {\n",
       "        vertical-align: top;\n",
       "    }\n",
       "\n",
       "    .dataframe thead th {\n",
       "        text-align: right;\n",
       "    }\n",
       "</style>\n",
       "<table border=\"1\" class=\"dataframe\">\n",
       "  <thead>\n",
       "    <tr style=\"text-align: right;\">\n",
       "      <th></th>\n",
       "      <th>loss</th>\n",
       "      <th>val_loss</th>\n",
       "      <th>epoch</th>\n",
       "    </tr>\n",
       "  </thead>\n",
       "  <tbody>\n",
       "    <tr>\n",
       "      <th>95</th>\n",
       "      <td>0.211245</td>\n",
       "      <td>0.222325</td>\n",
       "      <td>95</td>\n",
       "    </tr>\n",
       "    <tr>\n",
       "      <th>96</th>\n",
       "      <td>0.209263</td>\n",
       "      <td>0.224750</td>\n",
       "      <td>96</td>\n",
       "    </tr>\n",
       "    <tr>\n",
       "      <th>97</th>\n",
       "      <td>0.209019</td>\n",
       "      <td>0.221405</td>\n",
       "      <td>97</td>\n",
       "    </tr>\n",
       "    <tr>\n",
       "      <th>98</th>\n",
       "      <td>0.209912</td>\n",
       "      <td>0.226880</td>\n",
       "      <td>98</td>\n",
       "    </tr>\n",
       "    <tr>\n",
       "      <th>99</th>\n",
       "      <td>0.209486</td>\n",
       "      <td>0.224494</td>\n",
       "      <td>99</td>\n",
       "    </tr>\n",
       "  </tbody>\n",
       "</table>\n",
       "</div>"
      ],
      "text/plain": [
       "        loss  val_loss  epoch\n",
       "95  0.211245  0.222325     95\n",
       "96  0.209263  0.224750     96\n",
       "97  0.209019  0.221405     97\n",
       "98  0.209912  0.226880     98\n",
       "99  0.209486  0.224494     99"
      ]
     },
     "metadata": {},
     "execution_count": 125
    }
   ],
   "metadata": {}
  },
  {
   "cell_type": "code",
   "execution_count": 126,
   "source": [
    "# проверка на тестовом наборе\r\n",
    "\r\n",
    "test_results['dnn_model'] = dnn_model.evaluate(X_test2, y_test2, verbose=0)"
   ],
   "outputs": [],
   "metadata": {}
  },
  {
   "cell_type": "code",
   "execution_count": 127,
   "source": [
    "test_results['dnn_model']"
   ],
   "outputs": [
    {
     "output_type": "execute_result",
     "data": {
      "text/plain": [
       "0.217513307929039"
      ]
     },
     "metadata": {},
     "execution_count": 127
    }
   ],
   "metadata": {}
  }
 ],
 "metadata": {
  "orig_nbformat": 4,
  "language_info": {
   "name": "python",
   "version": "3.9.7",
   "mimetype": "text/x-python",
   "codemirror_mode": {
    "name": "ipython",
    "version": 3
   },
   "pygments_lexer": "ipython3",
   "nbconvert_exporter": "python",
   "file_extension": ".py"
  },
  "kernelspec": {
   "name": "python3",
   "display_name": "Python 3.9.7 64-bit (windows store)"
  },
  "interpreter": {
   "hash": "616ca81979ecf411ca0f820db18706c351c5c9feef5d789daba012783a176864"
  }
 },
 "nbformat": 4,
 "nbformat_minor": 2
}